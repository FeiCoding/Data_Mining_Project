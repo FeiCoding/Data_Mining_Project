{
 "cells": [
  {
   "cell_type": "code",
   "execution_count": 74,
   "metadata": {},
   "outputs": [],
   "source": [
    "import csv\n",
    "import re"
   ]
  },
  {
   "cell_type": "code",
   "execution_count": 75,
   "metadata": {},
   "outputs": [],
   "source": [
    "def id_mapping():\n",
    "    filename = 'data/metadata/user_mapping.csv'\n",
    "    with open(filename) as f:\n",
    "        reader = csv.DictReader(f)\n",
    "        dic = dict()\n",
    "        for row in reader:\n",
    "            user_id = row['standup_id']\n",
    "            user_name = row['slack_id']\n",
    "            dic[user_name] = user_id\n",
    "    return dic"
   ]
  },
  {
   "cell_type": "code",
   "execution_count": 76,
   "metadata": {},
   "outputs": [],
   "source": [
    "def read_file(filename):\n",
    "    with open(filename, encoding=\"latin-1\") as f:\n",
    "        reader = csv.DictReader(f)\n",
    "        str_list = list()\n",
    "        for row in reader:\n",
    "            members = row['members']\n",
    "            members = clean(members)\n",
    "            str_list.append(members.split(','))\n",
    "    return str_list"
   ]
  },
  {
   "cell_type": "code",
   "execution_count": 77,
   "metadata": {},
   "outputs": [],
   "source": [
    "def clean(pre_str):\n",
    "    post_str = pre_str.replace('[','').replace(']','').replace('\\'','').replace(' ', '')\n",
    "    return post_str"
   ]
  },
  {
   "cell_type": "code",
   "execution_count": 78,
   "metadata": {},
   "outputs": [],
   "source": [
    "def write_file(filename, dic, str_list):\n",
    "    with open(filename, 'w') as f:\n",
    "        writer = csv.writer(f)       \n",
    "        for sub_list in str_list:\n",
    "            transformed_str = ''\n",
    "            for member_id in sub_list:\n",
    "                if member_id in dic:\n",
    "                    transformed_str += dic[member_id] \n",
    "                    transformed_str += ' '\n",
    "                else:\n",
    "                    transformed_str += 'XXXXX '\n",
    "            writer.writerow([transformed_str])\n",
    "    print('Write Finished!')"
   ]
  },
  {
   "cell_type": "code",
   "execution_count": 79,
   "metadata": {},
   "outputs": [],
   "source": [
    "def main(args):\n",
    "    dic_id = id_mapping()\n",
    "    str_list = read_file('data/Slack_Private_19062018.csv')\n",
    "    print(len(str_list))\n",
    "    write_file('data/map_member.csv', dic_id, str_list)"
   ]
  },
  {
   "cell_type": "code",
   "execution_count": 80,
   "metadata": {},
   "outputs": [
    {
     "name": "stdout",
     "output_type": "stream",
     "text": [
      "288211\n",
      "Write Finished!\n"
     ]
    }
   ],
   "source": [
    "if __name__ == \"__main__\":\n",
    "    main(args)"
   ]
  },
  {
   "cell_type": "code",
   "execution_count": null,
   "metadata": {},
   "outputs": [],
   "source": []
  }
 ],
 "metadata": {
  "kernelspec": {
   "display_name": "Python 3",
   "language": "python",
   "name": "python3"
  },
  "language_info": {
   "codemirror_mode": {
    "name": "ipython",
    "version": 3
   },
   "file_extension": ".py",
   "mimetype": "text/x-python",
   "name": "python",
   "nbconvert_exporter": "python",
   "pygments_lexer": "ipython3",
   "version": "3.6.5"
  }
 },
 "nbformat": 4,
 "nbformat_minor": 2
}
