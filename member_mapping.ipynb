{
 "cells": [
  {
   "cell_type": "code",
   "execution_count": 74,
   "metadata": {
    "collapsed": true
   },
   "outputs": [],
   "source": [
    "import csv\n",
    "import re"
   ]
  },
  {
   "cell_type": "code",
   "execution_count": 75,
   "metadata": {
    "collapsed": true
   },
   "outputs": [],
   "source": [
    "def id_mapping():\n",
    "    filename = 'data/metadata/user_mapping.csv'\n",
    "    with open(filename) as f:\n",
    "        reader = csv.DictReader(f)\n",
    "        dic = dict()\n",
    "        for row in reader:\n",
    "            user_id = row['standup_id']\n",
    "            user_name = row['slack_id']\n",
    "            dic[user_name] = user_id\n",
    "    return dic"
   ]
  },
  {
   "cell_type": "code",
   "execution_count": 76,
   "metadata": {
    "collapsed": true
   },
   "outputs": [],
   "source": [
    "def read_file(filename, col_name):\n",
    "    with open(filename, encoding=\"latin-1\") as f:\n",
    "        reader = csv.DictReader(f)\n",
    "        str_list = list()\n",
    "        for row in reader:\n",
    "            data = row[col_name]\n",
    "            data = clean(data)\n",
    "            str_list.append(data.split(','))\n",
    "    return str_list"
   ]
  },
  {
   "cell_type": "code",
   "execution_count": 77,
   "metadata": {
    "collapsed": true
   },
   "outputs": [],
   "source": [
    "def clean(pre_str):\n",
    "    post_str = pre_str.replace('[','').replace(']','').replace('\\'','').replace(' ', '')\n",
    "    return post_str"
   ]
  },
  {
   "cell_type": "code",
   "execution_count": 78,
   "metadata": {
    "collapsed": true
   },
   "outputs": [],
   "source": [
    "def write_file(filename, dic, str_list, err_info):\n",
    "    with open(filename, 'w') as f:\n",
    "        writer = csv.writer(f)       \n",
    "        for sub_list in str_list:\n",
    "            transformed_str = ''\n",
    "            for member_id in sub_list:\n",
    "                if member_id in dic:\n",
    "                    transformed_str += dic[member_id] \n",
    "                    transformed_str += ' '\n",
    "                else:\n",
    "                    transformed_str += err_info\n",
    "            writer.writerow([transformed_str])\n",
    "    print('Write Finished!')"
   ]
  },
  {
   "cell_type": "code",
   "execution_count": 1,
   "metadata": {
    "collapsed": false
   },
   "outputs": [
    {
     "ename": "SyntaxError",
     "evalue": "invalid syntax (<ipython-input-1-2a3cf88c31d0>, line 5)",
     "output_type": "error",
     "traceback": [
      "\u001b[0;36m  File \u001b[0;32m\"<ipython-input-1-2a3cf88c31d0>\"\u001b[0;36m, line \u001b[0;32m5\u001b[0m\n\u001b[0;31m    if args == 'members'\u001b[0m\n\u001b[0m                        ^\u001b[0m\n\u001b[0;31mSyntaxError\u001b[0m\u001b[0;31m:\u001b[0m invalid syntax\n"
     ]
    }
   ],
   "source": [
    "def main(args):\n",
    "    dic_id = id_mapping()\n",
    "    \n",
    "    #-----------------------------------------------------------------Member Taking-------------------------------------------\n",
    "    if args == 'members':\n",
    "        str_list = read_file('data/Slack_Private_19062018.csv', 'members')\n",
    "        print(len(str_list))\n",
    "        write_file('data/map_member.csv', dic_id, str_list, 'XXXXX ')\n",
    "        \n",
    "        \n",
    "        \n",
    "    #------------------------------------------------------Mentions Taking-----------------------------------------------------\n",
    "    if args == 'mentions':\n",
    "        str_list = read_file('data/Slack_Private_19062018.csv', 'mentions')\n",
    "        print(len(str_list))\n",
    "        write_file('data/map_mentions.csv', dic_id, str_list, '0')"
   ]
  },
  {
   "cell_type": "code",
   "execution_count": 80,
   "metadata": {
    "collapsed": false
   },
   "outputs": [
    {
     "name": "stdout",
     "output_type": "stream",
     "text": [
      "288211\n",
      "Write Finished!\n"
     ]
    }
   ],
   "source": [
    "if __name__ == \"__main__\":\n",
    "    args = 'mentions'\n",
    "    main(args)"
   ]
  },
  {
   "cell_type": "code",
   "execution_count": null,
   "metadata": {
    "collapsed": true
   },
   "outputs": [],
   "source": []
  }
 ],
 "metadata": {
  "anaconda-cloud": {},
  "kernelspec": {
   "display_name": "Python [default]",
   "language": "python",
   "name": "python3"
  },
  "language_info": {
   "codemirror_mode": {
    "name": "ipython",
    "version": 3
   },
   "file_extension": ".py",
   "mimetype": "text/x-python",
   "name": "python",
   "nbconvert_exporter": "python",
   "pygments_lexer": "ipython3",
   "version": "3.5.2"
  }
 },
 "nbformat": 4,
 "nbformat_minor": 2
}
