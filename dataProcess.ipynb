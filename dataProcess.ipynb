{
 "cells": [
  {
   "cell_type": "code",
   "execution_count": 18,
   "metadata": {
    "collapsed": true
   },
   "outputs": [],
   "source": [
    "import csv\n",
    "import tqdm"
   ]
  },
  {
   "cell_type": "code",
   "execution_count": 19,
   "metadata": {
    "collapsed": true,
    "scrolled": true
   },
   "outputs": [],
   "source": [
    "def id_mapping():\n",
    "    filename = 'data/metadata/user_mapping.csv'\n",
    "    with open(filename) as f:\n",
    "        reader = csv.DictReader(f)\n",
    "        dic = dict()\n",
    "        for row in reader:\n",
    "            user_id = row['standup_id']\n",
    "            user_name = row['slack_id']\n",
    "            dic[user_name] = user_id\n",
    "    return dic"
   ]
  },
  {
   "cell_type": "code",
   "execution_count": 20,
   "metadata": {
    "collapsed": true
   },
   "outputs": [],
   "source": [
    "def channel_mapping():\n",
    "    filename = 'data/metadata/channel_info.csv'\n",
    "    with open(filename) as f:\n",
    "        reader = csv.DictReader(f)\n",
    "        dic = dict()\n",
    "        for row in reader:\n",
    "            channel_id = row['channel_id']\n",
    "            project_id = row['project_id']\n",
    "            if project_id != '':\n",
    "                dic[channel_id] = project_id\n",
    "    return dic        "
   ]
  },
  {
   "cell_type": "code",
   "execution_count": 21,
   "metadata": {
    "collapsed": true
   },
   "outputs": [],
   "source": [
    "def read_data(filename):\n",
    "    id_list = []\n",
    "    with open(filename, encoding=\"ISO-8859-1\") as f:\n",
    "        reader = csv.DictReader(f)       \n",
    "        for row in reader:\n",
    "            user_id = row['user_id']\n",
    "            id_list.append(user_id)\n",
    "    return id_list"
   ]
  },
  {
   "cell_type": "code",
   "execution_count": 22,
   "metadata": {
    "collapsed": true
   },
   "outputs": [],
   "source": [
    "def write_data(dic, id_list, filename):\n",
    "    #missing_key = set()\n",
    "    with open(filename, 'w') as f:\n",
    "        writer = csv.writer(f)\n",
    "        for id_name in tqdm.tqdm(id_list):\n",
    "            if(id_name in dic):\n",
    "                writer.writerow([dic[id_name]])\n",
    "            else:\n",
    "                writer.writerow(['XXXXX'])\n",
    "                #missing_key.add(id_name)\n",
    "    #return missing_key"
   ]
  },
  {
   "cell_type": "code",
   "execution_count": 23,
   "metadata": {
    "collapsed": true
   },
   "outputs": [],
   "source": [
    "def write_missing_key(missing_key, filename):    \n",
    "    with open(filename, 'w') as f:\n",
    "        writer = csv.writer(f)\n",
    "        for key in tqdm.tqdm(missing_key):\n",
    "            writer.writerow([key])"
   ]
  },
  {
   "cell_type": "code",
   "execution_count": 24,
   "metadata": {
    "collapsed": true
   },
   "outputs": [],
   "source": [
    "def main(args):\n",
    "    dic_id = id_mapping()\n",
    "    dic_channel = channel_mapping()\n",
    "    \n",
    "    \n",
    "    #------------------------------------Private Slack-----------------------------\n",
    "    if args == 'Private Slack' :\n",
    "        filename_private_read = 'data/Slack_Private_19062018.csv'\n",
    "        filename_private_write = 'processed_data_private.csv'\n",
    "        #filename_private_missing_key = 'missing_key_private.csv'\n",
    "        \n",
    "        id_list_private = read_data(filename_private_read)\n",
    "        write_data(dic_id, id_list_private, filename_private_write)\n",
    "        #write_missing_key(missing_key_private, filename_private_missing_key)\n",
    "    \n",
    "    \n",
    "    \n",
    "    \n",
    "    #------------------------------------Public Slack-----------------------------\n",
    "    if args == 'Public Slcak' :\n",
    "        filename_public_read = 'data/Slack_Public_19062018.csv'\n",
    "        filename_public_write = './data/processed_data_public.csv'\n",
    "        #filename_public_missing_key = 'missing_key_public.csv'\n",
    "        dic = id_mapping()\n",
    "        id_list_public = read_data(filename_public_read)\n",
    "        write_data(dic, id_list_public, filename_public_write)\n",
    "        #write_missing_key(missing_key_public, filename_public_missing_key)\n",
    "        \n",
    "        \n",
    "        \n",
    "        \n",
    "    #------------------------------------Channel Setting-----------------------------\n",
    "    if args == 'Channel Setting':\n",
    "        filename_channel_read = 'data/Slack_Public_19062018.csv'\n",
    "        filename_channel_write = 'data/precessed_channel_data.csv'\n",
    "        "
   ]
  },
  {
   "cell_type": "code",
   "execution_count": 25,
   "metadata": {},
   "outputs": [
    {
     "ename": "FileNotFoundError",
     "evalue": "[Errno 2] No such file or directory: 'data/metadata/user_mapping.csv'",
     "output_type": "error",
     "traceback": [
      "\u001b[0;31m---------------------------------------------------------------------------\u001b[0m",
      "\u001b[0;31mFileNotFoundError\u001b[0m                         Traceback (most recent call last)",
      "\u001b[0;32m<ipython-input-25-ae1347ffac3e>\u001b[0m in \u001b[0;36m<module>\u001b[0;34m()\u001b[0m\n\u001b[1;32m      1\u001b[0m \u001b[0;32mif\u001b[0m \u001b[0m__name__\u001b[0m \u001b[0;34m==\u001b[0m \u001b[0;34m\"__main__\"\u001b[0m\u001b[0;34m:\u001b[0m\u001b[0;34m\u001b[0m\u001b[0m\n\u001b[1;32m      2\u001b[0m     \u001b[0margs\u001b[0m \u001b[0;34m=\u001b[0m \u001b[0;34m'Private Slack'\u001b[0m\u001b[0;34m\u001b[0m\u001b[0m\n\u001b[0;32m----> 3\u001b[0;31m     \u001b[0mmain\u001b[0m\u001b[0;34m(\u001b[0m\u001b[0margs\u001b[0m\u001b[0;34m)\u001b[0m\u001b[0;34m\u001b[0m\u001b[0m\n\u001b[0m",
      "\u001b[0;32m<ipython-input-24-17a0ca70a02c>\u001b[0m in \u001b[0;36mmain\u001b[0;34m(args)\u001b[0m\n\u001b[1;32m      1\u001b[0m \u001b[0;32mdef\u001b[0m \u001b[0mmain\u001b[0m\u001b[0;34m(\u001b[0m\u001b[0margs\u001b[0m\u001b[0;34m)\u001b[0m\u001b[0;34m:\u001b[0m\u001b[0;34m\u001b[0m\u001b[0m\n\u001b[0;32m----> 2\u001b[0;31m     \u001b[0mdic_id\u001b[0m \u001b[0;34m=\u001b[0m \u001b[0mid_mapping\u001b[0m\u001b[0;34m(\u001b[0m\u001b[0;34m)\u001b[0m\u001b[0;34m\u001b[0m\u001b[0m\n\u001b[0m\u001b[1;32m      3\u001b[0m     \u001b[0mdic_channel\u001b[0m \u001b[0;34m=\u001b[0m \u001b[0mchannel_mapping\u001b[0m\u001b[0;34m(\u001b[0m\u001b[0;34m)\u001b[0m\u001b[0;34m\u001b[0m\u001b[0m\n\u001b[1;32m      4\u001b[0m \u001b[0;34m\u001b[0m\u001b[0m\n\u001b[1;32m      5\u001b[0m \u001b[0;34m\u001b[0m\u001b[0m\n",
      "\u001b[0;32m<ipython-input-19-35342dbf0b47>\u001b[0m in \u001b[0;36mid_mapping\u001b[0;34m()\u001b[0m\n\u001b[1;32m      1\u001b[0m \u001b[0;32mdef\u001b[0m \u001b[0mid_mapping\u001b[0m\u001b[0;34m(\u001b[0m\u001b[0;34m)\u001b[0m\u001b[0;34m:\u001b[0m\u001b[0;34m\u001b[0m\u001b[0m\n\u001b[1;32m      2\u001b[0m     \u001b[0mfilename\u001b[0m \u001b[0;34m=\u001b[0m \u001b[0;34m'data/metadata/user_mapping.csv'\u001b[0m\u001b[0;34m\u001b[0m\u001b[0m\n\u001b[0;32m----> 3\u001b[0;31m     \u001b[0;32mwith\u001b[0m \u001b[0mopen\u001b[0m\u001b[0;34m(\u001b[0m\u001b[0mfilename\u001b[0m\u001b[0;34m)\u001b[0m \u001b[0;32mas\u001b[0m \u001b[0mf\u001b[0m\u001b[0;34m:\u001b[0m\u001b[0;34m\u001b[0m\u001b[0m\n\u001b[0m\u001b[1;32m      4\u001b[0m         \u001b[0mreader\u001b[0m \u001b[0;34m=\u001b[0m \u001b[0mcsv\u001b[0m\u001b[0;34m.\u001b[0m\u001b[0mDictReader\u001b[0m\u001b[0;34m(\u001b[0m\u001b[0mf\u001b[0m\u001b[0;34m)\u001b[0m\u001b[0;34m\u001b[0m\u001b[0m\n\u001b[1;32m      5\u001b[0m         \u001b[0mdic\u001b[0m \u001b[0;34m=\u001b[0m \u001b[0mdict\u001b[0m\u001b[0;34m(\u001b[0m\u001b[0;34m)\u001b[0m\u001b[0;34m\u001b[0m\u001b[0m\n",
      "\u001b[0;31mFileNotFoundError\u001b[0m: [Errno 2] No such file or directory: 'data/metadata/user_mapping.csv'"
     ]
    }
   ],
   "source": [
    "if __name__ == \"__main__\":\n",
    "    args = 'Private Slack'\n",
    "    main(args)"
   ]
  },
  {
   "cell_type": "code",
   "execution_count": null,
   "metadata": {
    "collapsed": true
   },
   "outputs": [],
   "source": []
  }
 ],
 "metadata": {
  "kernelspec": {
   "display_name": "Python 3",
   "language": "python",
   "name": "python3"
  },
  "language_info": {
   "codemirror_mode": {
    "name": "ipython",
    "version": 3
   },
   "file_extension": ".py",
   "mimetype": "text/x-python",
   "name": "python",
   "nbconvert_exporter": "python",
   "pygments_lexer": "ipython3",
   "version": "3.6.1"
  }
 },
 "nbformat": 4,
 "nbformat_minor": 2
}
