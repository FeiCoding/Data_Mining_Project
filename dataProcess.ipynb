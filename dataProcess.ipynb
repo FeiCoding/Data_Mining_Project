{
 "cells": [
  {
   "cell_type": "code",
   "execution_count": 26,
   "metadata": {
    "collapsed": true
   },
   "outputs": [],
   "source": [
    "import csv\n",
    "import tqdm"
   ]
  },
  {
   "cell_type": "code",
   "execution_count": 27,
   "metadata": {
    "collapsed": true,
    "scrolled": true
   },
   "outputs": [],
   "source": [
    "def id_mapping():\n",
    "    filename = 'data/metadata/user_mapping.csv'\n",
    "    with open(filename) as f:\n",
    "        reader = csv.DictReader(f)\n",
    "        dic = dict()\n",
    "        for row in reader:\n",
    "            user_id = row['standup_id']\n",
    "            user_name = row['slack_id']\n",
    "            dic[user_name] = user_id\n",
    "    return dic"
   ]
  },
  {
   "cell_type": "code",
   "execution_count": 28,
   "metadata": {
    "collapsed": true
   },
   "outputs": [],
   "source": [
    "def channel_mapping():\n",
    "    filename = 'data/metadata/channel_info.csv'\n",
    "    with open(filename) as f:\n",
    "        reader = csv.DictReader(f)\n",
    "        dic = dict()\n",
    "        for row in reader:\n",
    "            channel_id = row['channel_id']\n",
    "            project_id = row['project_id']\n",
    "            if project_id != '':\n",
    "                dic[channel_id] = project_id\n",
    "    return dic        "
   ]
  },
  {
   "cell_type": "code",
   "execution_count": 29,
   "metadata": {
    "collapsed": true
   },
   "outputs": [],
   "source": [
    "def read_data(filename):\n",
    "    id_list = []\n",
    "    with open(filename, encoding=\"ISO-8859-1\") as f:\n",
    "        reader = csv.DictReader(f)       \n",
    "        for row in reader:\n",
    "            user_id = row['user_id']\n",
    "            id_list.append(user_id)\n",
    "    return id_list"
   ]
  },
  {
   "cell_type": "code",
   "execution_count": 1,
   "metadata": {
    "collapsed": true
   },
   "outputs": [],
   "source": [
    "def write_id_data(dic, id_list, filename):\n",
    "    #missing_key = set()\n",
    "    with open(filename, 'w') as f:\n",
    "        writer = csv.writer(f)\n",
    "        for id_name in tqdm.tqdm(id_list):\n",
    "            if(id_name in dic):\n",
    "                writer.writerow([dic[id_name]])\n",
    "            else:\n",
    "                writer.writerow(['XXXXX'])\n",
    "                #missing_key.add(id_name)\n",
    "    #return missing_key"
   ]
  },
  {
   "cell_type": "code",
   "execution_count": null,
   "metadata": {
    "collapsed": true
   },
   "outputs": [],
   "source": [
    "def write_member_data(dic, id_list, filename):\n",
    "    with open(filename, 'w') as f:\n",
    "        writer = csv,writer(f)\n",
    "        for id_name in dqdm.tqdm(id_list):"
   ]
  },
  {
   "cell_type": "code",
   "execution_count": 31,
   "metadata": {
    "collapsed": true
   },
   "outputs": [],
   "source": [
    "def write_missing_key(missing_key, filename):    \n",
    "    with open(filename, 'w') as f:\n",
    "        writer = csv.writer(f)\n",
    "        for key in tqdm.tqdm(missing_key):\n",
    "            writer.writerow([key])"
   ]
  },
  {
   "cell_type": "code",
   "execution_count": 3,
   "metadata": {
    "collapsed": true
   },
   "outputs": [],
   "source": [
    "def main(args):\n",
    "    dic_id = id_mapping()\n",
    "    dic_channel = channel_mapping()\n",
    "    \n",
    "    \n",
    "    #------------------------------------Private Slack-----------------------------\n",
    "    if args == 'Private Slack' :\n",
    "        filename_private_read = 'data/Slack_Private_19062018.csv'\n",
    "        filename_private_write = 'processed_data_private.csv'\n",
    "        #filename_private_missing_key = 'missing_key_private.csv'\n",
    "        \n",
    "        id_list_private = read_data(filename_private_read)\n",
    "        write_id_data(dic_id, id_list_private, filename_private_write)\n",
    "        #write_missing_key(missing_key_private, filename_private_missing_key)\n",
    "    \n",
    "    \n",
    "    \n",
    "    \n",
    "    #------------------------------------Public Slack-----------------------------\n",
    "    if args == 'Public Slcak' :\n",
    "        filename_public_read = 'data/Slack_Public_19062018.csv'\n",
    "        filename_public_write = './data/processed_data_public.csv'\n",
    "        #filename_public_missing_key = 'missing_key_public.csv'\n",
    "        dic = id_mapping()\n",
    "        id_list_public = read_data(filename_public_read)\n",
    "        write_id_data(dic, id_list_public, filename_public_write)\n",
    "        #write_missing_key(missing_key_public, filename_public_missing_key)\n",
    "        \n",
    "        \n",
    "        \n",
    "        \n",
    "    #------------------------------------Channel Setting-----------------------------\n",
    "    if args == 'Channel Setting':\n",
    "        filename_channel_read = 'data/Slack_Public_19062018.csv'\n",
    "        filename_channel_write = 'data/precessed_channel_data.csv'\n",
    "        "
   ]
  },
  {
   "cell_type": "code",
   "execution_count": 33,
   "metadata": {},
   "outputs": [
    {
     "name": "stderr",
     "output_type": "stream",
     "text": [
      "100%|██████████| 288211/288211 [00:00<00:00, 983866.70it/s]\n"
     ]
    }
   ],
   "source": [
    "if __name__ == \"__main__\":\n",
    "    args = 'Private Slack'\n",
    "    main(args)"
   ]
  },
  {
   "cell_type": "code",
   "execution_count": null,
   "metadata": {
    "collapsed": true
   },
   "outputs": [],
   "source": []
  }
 ],
 "metadata": {
  "kernelspec": {
   "display_name": "Python 3",
   "language": "python",
   "name": "python3"
  },
  "language_info": {
   "codemirror_mode": {
    "name": "ipython",
    "version": 3
   },
   "file_extension": ".py",
   "mimetype": "text/x-python",
   "name": "python",
   "nbconvert_exporter": "python",
   "pygments_lexer": "ipython3",
   "version": "3.6.1"
  }
 },
 "nbformat": 4,
 "nbformat_minor": 2
}
