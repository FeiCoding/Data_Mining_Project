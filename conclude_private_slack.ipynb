{
 "cells": [
  {
   "cell_type": "code",
   "execution_count": 7,
   "metadata": {
    "collapsed": true
   },
   "outputs": [],
   "source": [
    "import csv\n",
    "import tqdm"
   ]
  },
  {
   "cell_type": "code",
   "execution_count": 69,
   "metadata": {
    "collapsed": true
   },
   "outputs": [],
   "source": [
    "def list_to_str(list):\n",
    "    res = ''\n",
    "    for item in list:\n",
    "        res = res + item\n",
    "        res = res + ' '\n",
    "    return res.rstrip()"
   ]
  },
  {
   "cell_type": "code",
   "execution_count": 70,
   "metadata": {
    "collapsed": true
   },
   "outputs": [],
   "source": [
    "def read_file(filename):\n",
    "    with open(filename) as f:\n",
    "        reader = csv.DictReader(f)\n",
    "        message = 1\n",
    "        \n",
    "        head = next(reader)\n",
    "        print(head.keys())\n",
    "        pre_time = head['timestamp']\n",
    "        pre_id = head['user_id']\n",
    "        pre_member = head['members']\n",
    "        \n",
    "        head_mention = head['mentions'].rstrip().split(' ')\n",
    "        pre_mentions = set(head_mention) \n",
    "        \n",
    "        info_list = list()\n",
    "        for row in reader:\n",
    "            time = row['timestamp']\n",
    "            user_id = row['user_id']\n",
    "            member = row['members']\n",
    "            mentions = row['mentions']\n",
    "            \n",
    "            # transform mentions into list and then into set\n",
    "            mentions_set = set(mentions.rstrip().split(' '))\n",
    "            if pre_time == time and pre_id == user_id and pre_member == member:\n",
    "                message += 1\n",
    "                pre_mentions = pre_mentions.union(mentions_set)\n",
    "                \n",
    "                # if new mentions come in, then delete '0'\n",
    "                if '0' in pre_mentions and len(pre_mentions) > 1:\n",
    "                    pre_mentions.remove('0')\n",
    "                \n",
    "            else: \n",
    "                # transfrom mentions set to string\n",
    "                pre_mentions_list = list(pre_mentions)\n",
    "                pre_mentions_str = \" \".join(str(st) for st in pre_mentions_list)\n",
    "                \n",
    "                # add pre information into a list and then append into the total list\n",
    "                sub_list = [pre_time, pre_id, pre_member, pre_mentions_str, message]\n",
    "                info_list.append(sub_list)\n",
    "                \n",
    "                # reset pre-variables to the one just read\n",
    "                message = 1\n",
    "                pre_time, pre_id, pre_member = time, user_id, member\n",
    "                pre_mentions = mentions_set\n",
    "        \n",
    "        # add the last list into the total list\n",
    "        pre_mentions_list = list(pre_mentions)\n",
    "        pre_mentions_str = \" \".join(st for st in pre_mentions_list)\n",
    "        sub_list = [pre_time, pre_id, pre_member, pre_mentions_str, message]\n",
    "        \n",
    "        \n",
    "        info_list.append(sub_list)\n",
    "        return info_list"
   ]
  },
  {
   "cell_type": "code",
   "execution_count": 94,
   "metadata": {
    "collapsed": true
   },
   "outputs": [],
   "source": [
    "def read_file_processed(filename):\n",
    "    with open(filename) as f:\n",
    "        reader = csv.DictReader(f)\n",
    "        head = next(reader)\n",
    "        \n",
    "        # collect timestamp and user id\n",
    "        pre_time = head['timestamp']\n",
    "        pre_id = head['user_id']\n",
    "        \n",
    "        #collect members into a list\n",
    "        pre_members = set(head['members'].rstrip().split(' '))\n",
    "        \n",
    "        #collect mentions into a list\n",
    "        pre_mentions = head['mentions'].rstrip().split(' ')\n",
    "        \n",
    "        #collect message into a list\n",
    "        pre_message = list()\n",
    "        pre_message.append(head['number_message'])\n",
    "\n",
    "        \n",
    "        #define final result\n",
    "        info_list = list()\n",
    "        max_len = len(pre_members)\n",
    "        \n",
    "        for row in reader:\n",
    "            time = row['timestamp']\n",
    "            user_id = row['user_id']\n",
    "            member = row['members']\n",
    "            mentions = row['mentions']\n",
    "            message = row['number_message']\n",
    "            \n",
    "            if pre_time == time and pre_id == user_id:\n",
    "                pre_members = pre_members.union(set(member.rstrip().split(' ')))\n",
    "                pre_mentions += mentions.rstrip().split(' ')\n",
    "                pre_message.append(message)\n",
    "                if(len(pre_members) > max_len):\n",
    "                    max_len = len(pre_members)\n",
    "            \n",
    "            else:\n",
    "                sub_list = [pre_time, pre_id, list_to_str(pre_members), list_to_str(pre_mentions), list_to_str(pre_message)]\n",
    "                info_list.append(sub_list)\n",
    "                pre_time, pre_id, pre_members, pre_mentions = time, user_id, set(member.rstrip().split(' ')), mentions.rstrip().split(' ')\n",
    "                pre_message = list()\n",
    "                pre_message.append(message)\n",
    "        \n",
    "        \n",
    "        sub_list = [pre_time, pre_id, list_to_str(list(pre_members)), list_to_str(pre_mentions), list_to_str(pre_message)]\n",
    "        info_list.append(sub_list)\n",
    "        return info_list, max_len"
   ]
  },
  {
   "cell_type": "code",
   "execution_count": 95,
   "metadata": {
    "collapsed": true
   },
   "outputs": [],
   "source": [
    "def write_process(filename, info_list):\n",
    "    with open(filename, 'w') as f:\n",
    "        writer = csv.writer(f)\n",
    "        for sub_list in tqdm.tqdm(info_list):\n",
    "            writer.writerow(sub_list)\n",
    "        print('Write Finished')   "
   ]
  },
  {
   "cell_type": "code",
   "execution_count": 102,
   "metadata": {
    "collapsed": true
   },
   "outputs": [],
   "source": [
    "def main(args):\n",
    "    # step 1, conclude the original information to count message mentions and members\n",
    "    if args == 'Form Processed Slack':\n",
    "        info_list = read_file_pre_processed('data/Slack_Private_19062018.csv')\n",
    "        write_process('data/Slack_Private_Processed.csv', info_list)\n",
    "    \n",
    "    # step 2, conclude the final infomation with the key of id and date\n",
    "    elif args == 'Form Final Slack':\n",
    "        info_list, max_len = read_file_processed('data/Slack_Private_Processed.csv')\n",
    "        #for sub_list in info_list:\n",
    "        #       print(sub_list)\n",
    "        write_process('data/Slack_Private_Final.csv', info_list)\n",
    "        print(max_len)"
   ]
  },
  {
   "cell_type": "code",
   "execution_count": 103,
   "metadata": {},
   "outputs": [
    {
     "name": "stderr",
     "output_type": "stream",
     "text": [
      "100%|██████████| 11405/11405 [00:00<00:00, 505971.22it/s]"
     ]
    },
    {
     "name": "stdout",
     "output_type": "stream",
     "text": [
      "Write Finished\n",
      "26\n"
     ]
    },
    {
     "name": "stderr",
     "output_type": "stream",
     "text": [
      "\n"
     ]
    }
   ],
   "source": [
    "if __name__ == '__main__':\n",
    "    args = 'Form Final Slack'\n",
    "\n",
    "    main(args)"
   ]
  },
  {
   "cell_type": "code",
   "execution_count": null,
   "metadata": {
    "collapsed": true
   },
   "outputs": [],
   "source": []
  }
 ],
 "metadata": {
  "anaconda-cloud": {},
  "kernelspec": {
   "display_name": "Python 3",
   "language": "python",
   "name": "python3"
  },
  "language_info": {
   "codemirror_mode": {
    "name": "ipython",
    "version": 3
   },
   "file_extension": ".py",
   "mimetype": "text/x-python",
   "name": "python",
   "nbconvert_exporter": "python",
   "pygments_lexer": "ipython3",
   "version": "3.6.1"
  }
 },
 "nbformat": 4,
 "nbformat_minor": 2
}
