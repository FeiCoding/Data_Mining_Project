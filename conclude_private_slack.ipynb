{
 "cells": [
  {
   "cell_type": "code",
   "execution_count": 1,
   "metadata": {
    "collapsed": true
   },
   "outputs": [],
   "source": [
    "import csv\n",
    "import tqdm"
   ]
  },
  {
   "cell_type": "code",
   "execution_count": 11,
   "metadata": {
    "collapsed": true
   },
   "outputs": [],
   "source": [
    "def read_file(filename):\n",
    "    with open(filename) as f:\n",
    "        reader = csv.DictReader(f)\n",
    "        message = 1\n",
    "        \n",
    "        head = next(reader)\n",
    "        pre_time = head['\\ufefftimestamp']\n",
    "        pre_id = head['user_id']\n",
    "        pre_member = head['members']\n",
    "        \n",
    "        head_mention = head['mentions'].rstrip().split(' ')\n",
    "        pre_mentions = set(head_mention) \n",
    "        \n",
    "        info_list = list()\n",
    "        for row in reader:\n",
    "            time = row['\\ufefftimestamp']\n",
    "            user_id = row['user_id']\n",
    "            member = row['members']\n",
    "            mentions = row['mentions']\n",
    "            \n",
    "            # transform mentions into list and then into set\n",
    "            mentions_set = set(mentions.rstrip().split(' '))\n",
    "            if pre_time == time and pre_id == user_id and pre_member == member:\n",
    "                message += 1\n",
    "                pre_mentions = pre_mentions.union(mentions_set)\n",
    "                \n",
    "                # if new mentions come in, then delete '0'\n",
    "                if '0' in pre_mentions and len(pre_mentions) > 1:\n",
    "                    pre_mentions.remove('0')\n",
    "                \n",
    "            else: \n",
    "                # transfrom mentions set to string\n",
    "                pre_mentions_list = list(pre_mentions)\n",
    "                pre_mentions_str = \" \".join(str(st) for st in pre_mentions_list)\n",
    "                \n",
    "                # add pre information into a list and then append into the total list\n",
    "                sub_list = [pre_time, pre_id, pre_member, pre_mentions_str, message]\n",
    "                info_list.append(sub_list)\n",
    "                \n",
    "                # reset pre-variables to the one just read\n",
    "                message = 1\n",
    "                pre_time, pre_id, pre_member = time, user_id, member\n",
    "                pre_mentions = mentions_set\n",
    "        \n",
    "        # add the last list into the total list\n",
    "        pre_mentions_list = list(pre_mentions)\n",
    "        pre_mentions_str = \" \".join(st for st in pre_mentions_list)\n",
    "        sub_list = [pre_time, pre_id, pre_member, pre_mentions_str, message]\n",
    "        \n",
    "        \n",
    "        info_list.append(sub_list)\n",
    "        return info_list"
   ]
  },
  {
   "cell_type": "code",
   "execution_count": 12,
   "metadata": {
    "collapsed": true
   },
   "outputs": [],
   "source": [
    "def main():\n",
    "    info_list = read_file('data/test.csv')\n",
    "    for sub_list in info_list:\n",
    "        print(sub_list)"
   ]
  },
  {
   "cell_type": "code",
   "execution_count": 13,
   "metadata": {
    "collapsed": false
   },
   "outputs": [
    {
     "name": "stdout",
     "output_type": "stream",
     "text": [
      "{'timestamp\\tuser_id\\tmembers\\tmentions\\tmessage': '21/06/2017\\t3\\t4\\t0\\tShall I book it sir'}\n"
     ]
    },
    {
     "ename": "KeyError",
     "evalue": "'timestamp'",
     "output_type": "error",
     "traceback": [
      "\u001b[0;31m---------------------------------------------------------------------------\u001b[0m",
      "\u001b[0;31mKeyError\u001b[0m                                  Traceback (most recent call last)",
      "\u001b[0;32m<ipython-input-13-2436fc2ab63a>\u001b[0m in \u001b[0;36m<module>\u001b[0;34m()\u001b[0m\n\u001b[1;32m      1\u001b[0m \u001b[1;32mif\u001b[0m \u001b[0m__name__\u001b[0m \u001b[1;33m==\u001b[0m \u001b[1;34m'__main__'\u001b[0m\u001b[1;33m:\u001b[0m\u001b[1;33m\u001b[0m\u001b[0m\n\u001b[0;32m----> 2\u001b[0;31m     \u001b[0mmain\u001b[0m\u001b[1;33m(\u001b[0m\u001b[1;33m)\u001b[0m\u001b[1;33m\u001b[0m\u001b[0m\n\u001b[0m",
      "\u001b[0;32m<ipython-input-12-e7014f48ec8b>\u001b[0m in \u001b[0;36mmain\u001b[0;34m()\u001b[0m\n\u001b[1;32m      1\u001b[0m \u001b[1;32mdef\u001b[0m \u001b[0mmain\u001b[0m\u001b[1;33m(\u001b[0m\u001b[1;33m)\u001b[0m\u001b[1;33m:\u001b[0m\u001b[1;33m\u001b[0m\u001b[0m\n\u001b[0;32m----> 2\u001b[0;31m     \u001b[0minfo_list\u001b[0m \u001b[1;33m=\u001b[0m \u001b[0mread_file\u001b[0m\u001b[1;33m(\u001b[0m\u001b[1;34m'data/test.csv'\u001b[0m\u001b[1;33m)\u001b[0m\u001b[1;33m\u001b[0m\u001b[0m\n\u001b[0m\u001b[1;32m      3\u001b[0m     \u001b[1;32mfor\u001b[0m \u001b[0msub_list\u001b[0m \u001b[1;32min\u001b[0m \u001b[0minfo_list\u001b[0m\u001b[1;33m:\u001b[0m\u001b[1;33m\u001b[0m\u001b[0m\n\u001b[1;32m      4\u001b[0m         \u001b[0mprint\u001b[0m\u001b[1;33m(\u001b[0m\u001b[0msub_list\u001b[0m\u001b[1;33m)\u001b[0m\u001b[1;33m\u001b[0m\u001b[0m\n",
      "\u001b[0;32m<ipython-input-11-6ecfdb94ee15>\u001b[0m in \u001b[0;36mread_file\u001b[0;34m(filename)\u001b[0m\n\u001b[1;32m      6\u001b[0m         \u001b[0mhead\u001b[0m \u001b[1;33m=\u001b[0m \u001b[0mnext\u001b[0m\u001b[1;33m(\u001b[0m\u001b[0mreader\u001b[0m\u001b[1;33m)\u001b[0m\u001b[1;33m\u001b[0m\u001b[0m\n\u001b[1;32m      7\u001b[0m         \u001b[0mprint\u001b[0m\u001b[1;33m(\u001b[0m\u001b[0mhead\u001b[0m\u001b[1;33m)\u001b[0m\u001b[1;33m\u001b[0m\u001b[0m\n\u001b[0;32m----> 8\u001b[0;31m         \u001b[0mpre_time\u001b[0m \u001b[1;33m=\u001b[0m \u001b[0mhead\u001b[0m\u001b[1;33m[\u001b[0m\u001b[1;34m'timestamp'\u001b[0m\u001b[1;33m]\u001b[0m\u001b[1;33m\u001b[0m\u001b[0m\n\u001b[0m\u001b[1;32m      9\u001b[0m         \u001b[0mpre_id\u001b[0m \u001b[1;33m=\u001b[0m \u001b[0mhead\u001b[0m\u001b[1;33m[\u001b[0m\u001b[1;34m'user_id'\u001b[0m\u001b[1;33m]\u001b[0m\u001b[1;33m\u001b[0m\u001b[0m\n\u001b[1;32m     10\u001b[0m         \u001b[0mpre_member\u001b[0m \u001b[1;33m=\u001b[0m \u001b[0mhead\u001b[0m\u001b[1;33m[\u001b[0m\u001b[1;34m'members'\u001b[0m\u001b[1;33m]\u001b[0m\u001b[1;33m\u001b[0m\u001b[0m\n",
      "\u001b[0;31mKeyError\u001b[0m: 'timestamp'"
     ]
    }
   ],
   "source": [
    "if __name__ == '__main__':\n",
    "    main()"
   ]
  },
  {
   "cell_type": "code",
   "execution_count": null,
   "metadata": {
    "collapsed": true
   },
   "outputs": [],
   "source": []
  }
 ],
 "metadata": {
  "anaconda-cloud": {},
  "kernelspec": {
   "display_name": "Python [default]",
   "language": "python",
   "name": "python3"
  },
  "language_info": {
   "codemirror_mode": {
    "name": "ipython",
    "version": 3
   },
   "file_extension": ".py",
   "mimetype": "text/x-python",
   "name": "python",
   "nbconvert_exporter": "python",
   "pygments_lexer": "ipython3",
   "version": "3.5.2"
  }
 },
 "nbformat": 4,
 "nbformat_minor": 2
}
