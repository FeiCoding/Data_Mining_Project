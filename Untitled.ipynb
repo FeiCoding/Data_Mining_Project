{
 "cells": [
  {
   "cell_type": "code",
   "execution_count": 235,
   "metadata": {},
   "outputs": [
    {
     "ename": "ModuleNotFoundError",
     "evalue": "No module named 'skmultilearn'",
     "output_type": "error",
     "traceback": [
      "\u001b[0;31m---------------------------------------------------------------------------\u001b[0m",
      "\u001b[0;31mModuleNotFoundError\u001b[0m                       Traceback (most recent call last)",
      "\u001b[0;32m<ipython-input-235-5c22eee38f4c>\u001b[0m in \u001b[0;36m<module>\u001b[0;34m()\u001b[0m\n\u001b[1;32m      2\u001b[0m \u001b[0;32mimport\u001b[0m \u001b[0mnumpy\u001b[0m \u001b[0;32mas\u001b[0m \u001b[0mnp\u001b[0m\u001b[0;34m\u001b[0m\u001b[0m\n\u001b[1;32m      3\u001b[0m \u001b[0;32mimport\u001b[0m \u001b[0mmath\u001b[0m\u001b[0;34m\u001b[0m\u001b[0m\n\u001b[0;32m----> 4\u001b[0;31m \u001b[0;32mfrom\u001b[0m \u001b[0mskmultilearn\u001b[0m\u001b[0;34m.\u001b[0m\u001b[0mproblem_transform\u001b[0m \u001b[0;32mimport\u001b[0m \u001b[0mLabelPowerset\u001b[0m\u001b[0;34m\u001b[0m\u001b[0m\n\u001b[0m",
      "\u001b[0;31mModuleNotFoundError\u001b[0m: No module named 'skmultilearn'"
     ]
    }
   ],
   "source": [
    "import csv\n",
    "import numpy as np\n",
    "import math\n",
    "from skmultilearn.problem_transform import LabelPowerset"
   ]
  },
  {
   "cell_type": "code",
   "execution_count": 173,
   "metadata": {
    "collapsed": true
   },
   "outputs": [],
   "source": [
    "def get_dict(filename, key, value):\n",
    "    with open(filename) as f:\n",
    "        reader = csv.DictReader(f)\n",
    "        \n",
    "        #create map\n",
    "        dict_ = dict()\n",
    "        \n",
    "        for row in reader:\n",
    "            key_val = row[key]\n",
    "            val_val = row[value]\n",
    "            dict_[int(key_val)] = int(val_val)\n",
    "        \n",
    "        return dict_"
   ]
  },
  {
   "cell_type": "code",
   "execution_count": 174,
   "metadata": {},
   "outputs": [
    {
     "name": "stdout",
     "output_type": "stream",
     "text": [
      "58\n",
      "83\n"
     ]
    }
   ],
   "source": [
    "project_map = get_dict('data/encoding/project_id_encoding.csv', 'project_id', 'mapping_number')\n",
    "user_map = get_dict('data/encoding/user_id_encoding.csv', 'user_id', 'number_map')\n",
    "print(len(user_map))\n",
    "print(len(project_map))"
   ]
  },
  {
   "cell_type": "code",
   "execution_count": 175,
   "metadata": {
    "collapsed": true
   },
   "outputs": [],
   "source": [
    "def read_data(filename):\n",
    "    with open(filename) as f:\n",
    "        reader = csv.DictReader(f)\n",
    "        \n",
    "        #create required collections\n",
    "        project_id = list()\n",
    "        user_id = list()\n",
    "        members = list()\n",
    "        mentions = list()\n",
    "        message_number = list()\n",
    "        \n",
    "        for row in reader:\n",
    "            project_id.append(row['project_id'].rstrip().split(' '))\n",
    "            user_id.append(row['user_id'].rstrip().split(' '))\n",
    "            members.append(row['members'].rstrip().split(' '))\n",
    "            mentions.append(row['mentions'].rstrip().split(' '))\n",
    "            message_number.append(row['message_number'].rstrip().split(' '))\n",
    "        if '' in members:\n",
    "            print('True')\n",
    "            members.remove('')\n",
    "        if ' ' in mentions:\n",
    "            print('True')\n",
    "            mentions.remove('')\n",
    "        return project_id, user_id, members, mentions, message_number"
   ]
  },
  {
   "cell_type": "code",
   "execution_count": 198,
   "metadata": {},
   "outputs": [],
   "source": [
    "def get_data_list(filename):\n",
    "    project_id, user_id, members, mentions, message_number = read_data(filename)\n",
    "    return project_id, user_id, members, mentions, message_number"
   ]
  },
  {
   "cell_type": "code",
   "execution_count": 199,
   "metadata": {},
   "outputs": [],
   "source": [
    "def transform_data(data_list, dict_):\n",
    "    one_hot_list = np.zeros((len(data_list), len(dict_)))\n",
    "    index = 0\n",
    "    for sub_list in data_list:\n",
    "        one_hot_encode = np.zeros((len(dict_),))\n",
    "        row_number = 1\n",
    "        for single_data in sub_list:\n",
    "            if single_data == '0':\n",
    "                continue\n",
    "            if single_data != '':\n",
    "                one_hot_encode[dict_[int(single_data)] - 1] = 1\n",
    "        row_number += 1\n",
    "        one_hot_list[index, :] = one_hot_encode\n",
    "        index += 1\n",
    "    return one_hot_list"
   ]
  },
  {
   "cell_type": "code",
   "execution_count": 200,
   "metadata": {
    "collapsed": true
   },
   "outputs": [],
   "source": [
    "def count_message(message_list):\n",
    "    sum_list = np.array((message_list))\n",
    "    index = 0\n",
    "    for sub_list in message_list:\n",
    "        if '' in sub_list:\n",
    "            sub_list.remove('')\n",
    "        sub_list = list(map(int, sub_list))\n",
    "        sum_list[index] = sum(sub_list)\n",
    "        index += 1\n",
    "    return sum_list"
   ]
  },
  {
   "cell_type": "code",
   "execution_count": 201,
   "metadata": {},
   "outputs": [],
   "source": [
    "def get_label(project_id, project_map):\n",
    "    return transform_data(project_id, project_map)"
   ]
  },
  {
   "cell_type": "code",
   "execution_count": 202,
   "metadata": {},
   "outputs": [],
   "source": [
    "def get_user_id_data(user_id, user_map):\n",
    "    return transform_data(user_id, user_map)"
   ]
  },
  {
   "cell_type": "code",
   "execution_count": 203,
   "metadata": {},
   "outputs": [],
   "source": [
    "def get_member_data(members, user_map):\n",
    "    for sub_list in members:\n",
    "        if '1' in sub_list:\n",
    "            sub_list.remove('1')\n",
    "        elif '160' in sub_list:\n",
    "            sub_list.remove('160')\n",
    "        elif '' in sub_list:\n",
    "            sub_list.remove('')\n",
    "    members_data = transform_data(members, user_map)\n",
    "    return members_data"
   ]
  },
  {
   "cell_type": "code",
   "execution_count": 204,
   "metadata": {
    "collapsed": true
   },
   "outputs": [],
   "source": [
    "def get_mention_data(mentions, user_map):\n",
    "    for sub_list in mentions:\n",
    "        if '1' in sub_list:\n",
    "            sub_list.remove('1')\n",
    "        elif '160' in sub_list:\n",
    "            sub_list.remove('160')\n",
    "    mentions_data = transform_data(mentions, user_map)\n",
    "    return mentions_data"
   ]
  },
  {
   "cell_type": "code",
   "execution_count": 226,
   "metadata": {
    "collapsed": true
   },
   "outputs": [],
   "source": [
    "def form_data(filename):\n",
    "    project_id, user_id, members, mentions, message_number = get_data_list(filename)\n",
    "    label_data = get_label(project_id, project_map)\n",
    "    user_id_data = get_user_id_data(user_id, user_map)\n",
    "    member_data = get_member_data(members, user_map)\n",
    "    mentions_data = get_mention_data(mentions, user_map)    \n",
    "    message_number = count_message(message_number)\n",
    "    print('Size of user_id: ', user_id_data.shape)\n",
    "    print('Size of member_data: ', member_data.shape)\n",
    "    print('Size of mentions_data: ', mentions_data.shape)\n",
    "    print('Size of message_number: ', message_number.shape)\n",
    "    train_data = np.zeros((user_id_data.shape[0], user_id_data.shape[1] + member_data.shape[1] + mentions_data.shape[1] +  1))\n",
    "    train_data[:, 0:user_id_data.shape[1]] = user_id_data\n",
    "    train_data[:, user_id_data.shape[1]:user_id_data.shape[1] + member_data.shape[1]] = member_data\n",
    "    train_data[:, user_id_data.shape[1] + member_data.shape[1] : train_data.shape[1] - 1] = mentions_data\n",
    "    train_data[:, train_data.shape[1] - 1] = message_number\n",
    "    return train_data, label_data"
   ]
  },
  {
   "cell_type": "code",
   "execution_count": 231,
   "metadata": {
    "collapsed": true
   },
   "outputs": [],
   "source": [
    "def form_train_test_data(train_data, label_data):\n",
    "    data = np.zeros((train_data.shape[0], train_data.shape[1] + label_data.shape[1]))\n",
    "    data[:, 0:label_data.shape[1]] = label_data\n",
    "    data[:,label_data.shape[1]:] = train_data\n",
    "    np.random.shuffle(data)\n",
    "    n_test = math.floor(0.1 * data.shape[0])\n",
    "    print('Number of test: ', n_test)\n",
    "    test = data[0:n_test,:]\n",
    "    train = data[n_test:,:]\n",
    "    return train, test"
   ]
  },
  {
   "cell_type": "code",
   "execution_count": 234,
   "metadata": {},
   "outputs": [
    {
     "name": "stdout",
     "output_type": "stream",
     "text": [
      "Size of user_id:  (5027, 58)\n",
      "Size of member_data:  (5027, 58)\n",
      "Size of mentions_data:  (5027, 58)\n",
      "Size of message_number:  (5027,)\n",
      "(5027, 175)\n",
      "(5027, 83)\n",
      "Number of test:  502\n"
     ]
    }
   ],
   "source": [
    "train_data, label_data = form_data('data/Final_file.csv', )\n",
    "print(train_data.shape)\n",
    "print(label_data.shape)\n",
    "train, test = form_train_test_data(train_data, label_data)"
   ]
  },
  {
   "cell_type": "code",
   "execution_count": null,
   "metadata": {
    "collapsed": true
   },
   "outputs": [],
   "source": [
    "Multilabel classification"
   ]
  }
 ],
 "metadata": {
  "kernelspec": {
   "display_name": "Python 3",
   "language": "python",
   "name": "python3"
  },
  "language_info": {
   "codemirror_mode": {
    "name": "ipython",
    "version": 3
   },
   "file_extension": ".py",
   "mimetype": "text/x-python",
   "name": "python",
   "nbconvert_exporter": "python",
   "pygments_lexer": "ipython3",
   "version": "3.6.1"
  }
 },
 "nbformat": 4,
 "nbformat_minor": 2
}
