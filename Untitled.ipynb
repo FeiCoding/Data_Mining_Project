{
 "cells": [
  {
   "cell_type": "code",
   "execution_count": 49,
   "metadata": {
    "collapsed": true
   },
   "outputs": [],
   "source": [
    "import csv\n",
    "import tqdm"
   ]
  },
  {
   "cell_type": "code",
   "execution_count": 65,
   "metadata": {},
   "outputs": [],
   "source": [
    "def read_file(filename):\n",
    "    with open(filename) as f:\n",
    "        reader = csv.DictReader(f)\n",
    "        message = 1\n",
    "        pre_time = None\n",
    "        pre_id = None\n",
    "        pre_member = None\n",
    "        pre_mentions = None\n",
    "        \n",
    "        head = next(reader)\n",
    "        pre_time = head['\\ufefftimestamp']\n",
    "        pre_id = head['user_id']\n",
    "        pre_member = head['members']\n",
    "        pre_mentions = head['mentions']\n",
    "        print(pre_time, pre_id, pre_member, pre_mentions)\n",
    "        \n",
    "        info_list = list()\n",
    "        for row in reader:\n",
    "            time = row['\\ufefftimestamp']\n",
    "            user_id = row['user_id']\n",
    "            member = row['members']\n",
    "            mentions = row['mentions']\n",
    "            if pre_time == time and pre_id == user_id and pre_member == member:\n",
    "                message += 1\n",
    "                if pre_mentions != mentions and mentions not in pre_mentions:\n",
    "                    pre_mentions += ' '\n",
    "                    pre_mentions += mentions\n",
    "            else: \n",
    "                sub_list = [pre_time, pre_id, pre_member, pre_mentions, message]\n",
    "                message = 1\n",
    "                pre_time, pre_id, pre_member, pre_mentions = time, user_id, member, mentions\n",
    "                info_list.append(sub_list)\n",
    "        sub_list = [pre_time, pre_id, pre_member, pre_mentions, message]\n",
    "        info_list.append(sub_list)\n",
    "        return info_list"
   ]
  },
  {
   "cell_type": "code",
   "execution_count": 66,
   "metadata": {
    "collapsed": true
   },
   "outputs": [],
   "source": [
    "def main():\n",
    "    info_list = read_file('data/test.csv')\n",
    "    for sub_list in info_list:\n",
    "        print(sub_list)"
   ]
  },
  {
   "cell_type": "code",
   "execution_count": 67,
   "metadata": {},
   "outputs": [
    {
     "name": "stdout",
     "output_type": "stream",
     "text": [
      "21/06/2017 3 4 0\n",
      "['21/06/2017', '3', '4', '0', 1]\n",
      "['21/06/2017', '3', '6', '0', 3]\n",
      "['21/06/2017', '3', '10', '0', 1]\n",
      "['21/06/2017', '3', '81', '0', 1]\n",
      "['21/06/2017', '4', '3', '0', 1]\n",
      "['21/06/2017', '4', '6', '0', 19]\n",
      "['21/06/2017', '4', '9', '0', 1]\n",
      "['21/06/2017', '4', '16', '0', 1]\n",
      "['22/06/2017', '23', '4', '0', 12]\n",
      "['22/06/2017', '23', '5', '0', 14]\n",
      "['22/06/2017', '23', '26', '0', 6]\n",
      "['22/06/2017', '23', '50', '0', 9]\n",
      "['22/06/2017', '23', '5 26', '0 5 23 26 26 5 ', 55]\n"
     ]
    }
   ],
   "source": [
    "if __name__ == '__main__':\n",
    "    main()"
   ]
  },
  {
   "cell_type": "code",
   "execution_count": 64,
   "metadata": {},
   "outputs": [
    {
     "data": {
      "text/plain": [
       "'0 5 23 26 26 26 5 '"
      ]
     },
     "execution_count": 64,
     "metadata": {},
     "output_type": "execute_result"
    }
   ],
   "source": []
  },
  {
   "cell_type": "code",
   "execution_count": null,
   "metadata": {
    "collapsed": true
   },
   "outputs": [],
   "source": []
  }
 ],
 "metadata": {
  "kernelspec": {
   "display_name": "Python 3",
   "language": "python",
   "name": "python3"
  },
  "language_info": {
   "codemirror_mode": {
    "name": "ipython",
    "version": 3
   },
   "file_extension": ".py",
   "mimetype": "text/x-python",
   "name": "python",
   "nbconvert_exporter": "python",
   "pygments_lexer": "ipython3",
   "version": "3.6.1"
  }
 },
 "nbformat": 4,
 "nbformat_minor": 2
}
