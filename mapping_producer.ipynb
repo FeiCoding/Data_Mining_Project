{
 "cells": [
  {
   "cell_type": "code",
   "execution_count": 3,
   "metadata": {
    "collapsed": true
   },
   "outputs": [],
   "source": [
    "import csv\n",
    "import tqdm"
   ]
  },
  {
   "cell_type": "code",
   "execution_count": 4,
   "metadata": {
    "collapsed": true
   },
   "outputs": [],
   "source": [
    "def read_data(filename, col):\n",
    "    id_list = []\n",
    "    with open(filename) as f:\n",
    "        reader = csv.DictReader(f)       \n",
    "        for row in reader:\n",
    "            user_id = row[col].rstrip().split(' ')\n",
    "            user_id = list(map(int, user_id))\n",
    "            user_id.sort()\n",
    "            #print(user_id)\n",
    "            id_list.append(sorted(set(user_id)))\n",
    "    return id_list"
   ]
  },
  {
   "cell_type": "code",
   "execution_count": 5,
   "metadata": {
    "collapsed": true
   },
   "outputs": [],
   "source": [
    "def write_id_data(id_list, filename):\n",
    "    #missing_key = set()\n",
    "    with open(filename, 'w') as f:\n",
    "        writer = csv.writer(f)\n",
    "        for id_name in tqdm.tqdm(id_list):\n",
    "            id_str = ''\n",
    "            for id_ in id_name:\n",
    "                id_str += str(id_)\n",
    "                id_str += ' '\n",
    "            writer.writerow([id_str])"
   ]
  },
  {
   "cell_type": "code",
   "execution_count": 6,
   "metadata": {
    "collapsed": true
   },
   "outputs": [],
   "source": [
    "def form_mapping(list_):\n",
    "    set_ = set()\n",
    "    for sub_list in list_:\n",
    "        for id_number in sub_list:\n",
    "            set_.add(int(id_number))\n",
    "    sorted(set_)\n",
    "    print(set_)\n",
    "    dic = dict()\n",
    "    index = 0\n",
    "    for number in set_:\n",
    "        dic[index] = number\n",
    "        index += 1\n",
    "    return dic, len(set_)"
   ]
  },
  {
   "cell_type": "code",
   "execution_count": 7,
   "metadata": {},
   "outputs": [],
   "source": [
    "project_id_list = read_data('data/Final_file.csv', 'user_id')"
   ]
  },
  {
   "cell_type": "code",
   "execution_count": 8,
   "metadata": {},
   "outputs": [
    {
     "name": "stdout",
     "output_type": "stream",
     "text": [
      "{3, 4, 5, 6, 9, 10, 11, 138, 141, 14, 143, 144, 145, 146, 17, 16, 147, 23, 152, 153, 26, 27, 155, 156, 30, 154, 32, 33, 158, 162, 165, 166, 42, 47, 176, 50, 51, 53, 55, 56, 58, 59, 12, 62, 63, 65, 66, 69, 73, 74, 78, 79, 80, 81, 83, 85, 90, 92}\n",
      "3\n",
      "4\n",
      "5\n",
      "6\n",
      "9\n",
      "10\n",
      "11\n",
      "138\n",
      "141\n",
      "14\n",
      "143\n",
      "144\n",
      "145\n",
      "146\n",
      "17\n",
      "16\n",
      "147\n",
      "23\n",
      "152\n",
      "153\n",
      "26\n",
      "27\n",
      "155\n",
      "156\n",
      "30\n",
      "154\n",
      "32\n",
      "33\n",
      "158\n",
      "162\n",
      "165\n",
      "166\n",
      "42\n",
      "47\n",
      "176\n",
      "50\n",
      "51\n",
      "53\n",
      "55\n",
      "56\n",
      "58\n",
      "59\n",
      "12\n",
      "62\n",
      "63\n",
      "65\n",
      "66\n",
      "69\n",
      "73\n",
      "74\n",
      "78\n",
      "79\n",
      "80\n",
      "81\n",
      "83\n",
      "85\n",
      "90\n",
      "92\n"
     ]
    }
   ],
   "source": [
    "dic, length = form_mapping(project_id_list)\n",
    "for key in dic.keys():\n",
    "    print(dic[key])"
   ]
  },
  {
   "cell_type": "code",
   "execution_count": null,
   "metadata": {
    "collapsed": true
   },
   "outputs": [],
   "source": []
  }
 ],
 "metadata": {
  "kernelspec": {
   "display_name": "Python 3",
   "language": "python",
   "name": "python3"
  },
  "language_info": {
   "codemirror_mode": {
    "name": "ipython",
    "version": 3
   },
   "file_extension": ".py",
   "mimetype": "text/x-python",
   "name": "python",
   "nbconvert_exporter": "python",
   "pygments_lexer": "ipython3",
   "version": "3.6.1"
  }
 },
 "nbformat": 4,
 "nbformat_minor": 2
}
