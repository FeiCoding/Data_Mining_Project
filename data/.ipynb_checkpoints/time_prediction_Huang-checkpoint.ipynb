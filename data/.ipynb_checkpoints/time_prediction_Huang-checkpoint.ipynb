{
 "cells": [
  {
   "cell_type": "code",
   "execution_count": 23,
   "metadata": {
    "collapsed": true
   },
   "outputs": [],
   "source": [
    "import numpy as np\n",
    "import csv\n",
    "import matplotlib.pyplot as plt\n",
    "import tqdm\n",
    "import math\n",
    "from sklearn.linear_model import LinearRegression\n",
    "from sklearn.linear_model import Ridge\n",
    "import matplotlib.pyplot as plt\n",
    "from mpl_toolkits.mplot3d import Axes3D\n",
    "from sklearn.preprocessing import StandardScaler\n",
    "from sklearn.preprocessing import PolynomialFeatures\n",
    "from sklearn.metrics import mean_squared_error"
   ]
  },
  {
   "cell_type": "code",
   "execution_count": 47,
   "metadata": {
    "collapsed": true
   },
   "outputs": [],
   "source": [
    "poly = PolynomialFeatures(2)\n",
    "scaler = StandardScaler()"
   ]
  },
  {
   "cell_type": "code",
   "execution_count": 25,
   "metadata": {
    "collapsed": true
   },
   "outputs": [],
   "source": [
    "def form_data():\n",
    "    filename = 'all_standups_jun17_jun18.csv'\n",
    "    user_id = np.zeros((15005, 1))\n",
    "    interest_id = np.zeros((15005, 1))\n",
    "    project_id = np.zeros((15005, 1))\n",
    "    time = np.zeros((15005, 1))\n",
    "    index = 0;\n",
    "    with open(filename) as f:\n",
    "        reader = csv.DictReader(f)\n",
    "        for row in reader:\n",
    "            user_id[index, :] = row['user_id']\n",
    "            interest_id[index, :] = row['interest_id']\n",
    "            project_id[index, :] = row['project_id']\n",
    "            time[index, :] = row['time']\n",
    "            index += 1\n",
    "    \n",
    "    n = time.shape[0]\n",
    "    data = np.zeros((n, 3))    \n",
    "    data[:, 0] = user_id[:,0]\n",
    "    data[:, 1] = interest_id[:,0]\n",
    "    data[:, 2] = project_id[:,0]\n",
    "    \n",
    "    data = poly_features(data)\n",
    "    data = normalization(data)\n",
    "    print(data.shape)\n",
    "    data = np.append(data, time, axis=1)\n",
    "    np.random.shuffle(data)\n",
    "    print(data.shape)\n",
    "    return data"
   ]
  },
  {
   "cell_type": "code",
   "execution_count": 26,
   "metadata": {
    "collapsed": true
   },
   "outputs": [],
   "source": [
    "def normalization(data):\n",
    "    scaler.fit(data)\n",
    "    trans_data = scaler.transform(data)\n",
    "    return trans_data"
   ]
  },
  {
   "cell_type": "code",
   "execution_count": 27,
   "metadata": {
    "collapsed": true
   },
   "outputs": [],
   "source": [
    "def poly_features(data):\n",
    "    dataTransform = poly.fit_transform(data)\n",
    "    return dataTransform "
   ]
  },
  {
   "cell_type": "code",
   "execution_count": 28,
   "metadata": {
    "collapsed": true
   },
   "outputs": [],
   "source": [
    "def form_test_train(data, n):\n",
    "    test_size = math.floor(n * 0.1)\n",
    "    test = np.zeros((test_size, data.shape[1]))\n",
    "    train = np.zeros((n - test_size, data.shape[1]))\n",
    "    test = data[0:test_size, :]\n",
    "    train = data[test_size:, :]\n",
    "    return test, train"
   ]
  },
  {
   "cell_type": "code",
   "execution_count": 29,
   "metadata": {
    "collapsed": true
   },
   "outputs": [],
   "source": [
    "def linear_regression_model(train, test):\n",
    "    model = LinearRegression(normalize = True)\n",
    "    label_length = train.shape[1] - 1\n",
    "    x = train[:, 0:label_length]\n",
    "    y = train[:, label_length]  \n",
    "    model.fit(x, y)\n",
    "    #for i in range(test.shape[0]):\n",
    "        #print(test[i, label_length].reshape(-1, 1) - model.predict(test[i, 0:label_length]).reshape(-1, 1))\n",
    "    error = np.sum(mean_squared_error(test[:, label_length], model.predict(test[:, 0:label_length]))) / test.shape[0]\n",
    "    return error, model"
   ]
  },
  {
   "cell_type": "code",
   "execution_count": 30,
   "metadata": {
    "collapsed": true
   },
   "outputs": [],
   "source": [
    "def reidge_regression_model(train, test):\n",
    "    alpha = np.arange(0.05, 1.0, 0.05)\n",
    "    label_length = train.shape[1] - 1\n",
    "    x = train[:, 0:label_length]\n",
    "    y = train[:, label_length]  \n",
    "    errors = np.zeros(alpha.shape)\n",
    "    index = 0\n",
    "    lowest_error = 10000\n",
    "    best_model = None\n",
    "    for al in alpha:\n",
    "        model = Ridge(al, max_iter = 50000)\n",
    "        model.fit(x, y)\n",
    "        errors[index] = np.sum(mean_squared_error(test[:, label_length], model.predict(test[:, 0:label_length]))) / test.shape[0]\n",
    "        if(errors[index] < lowest_error):\n",
    "            best_model = model\n",
    "            lowest_error = errors[index]        \n",
    "        index += 1\n",
    "    return lowest_error, best_model"
   ]
  },
  {
   "cell_type": "code",
   "execution_count": 31,
   "metadata": {
    "collapsed": true
   },
   "outputs": [],
   "source": [
    "def plot_data(data, title):\n",
    "    ax = plt.subplot(111, projection='3d')\n",
    "    x, y, z = data[:,0], data[:,1], data[:,2]    \n",
    "    ax.scatter(x, y, z, c='r')  \n",
    "    ax.text2D(0.05, 0.95, title, transform=ax.transAxes)\n",
    "    ax.set_zlabel('Z')  \n",
    "    ax.set_ylabel('Y')\n",
    "    ax.set_xlabel('X')\n",
    "    plt.show()"
   ]
  },
  {
   "cell_type": "code",
   "execution_count": 32,
   "metadata": {
    "collapsed": true
   },
   "outputs": [],
   "source": [
    "def single_test(data, model):\n",
    "    print('test normalized data: ' ,data.shape)\n",
    "    return model.predict(data)"
   ]
  },
  {
   "cell_type": "code",
   "execution_count": 33,
   "metadata": {
    "collapsed": true
   },
   "outputs": [],
   "source": [
    "def main():\n",
    "    data = form_data()    \n",
    "    test, train = form_test_train(data, data.shape[0])\n",
    "    linear_error, linear_model = linear_regression_model(train, test)    \n",
    "    print('Linear Average Error: ', linear_error)\n",
    "    redige_errors, reidge_model = reidge_regression_model(train, test)\n",
    "    print('Redige Average Error: ', redige_errors)\n",
    "    \n",
    "    x = poly.transform(np.array([6, 23, 74]).reshape(1, -1).astype(float))\n",
    "    x = scaler.transform(x)\n",
    "    #print(x)\n",
    "    #print(test[0,:])\n",
    "    print(single_test(x, linear_model))\n",
    "    "
   ]
  },
  {
   "cell_type": "code",
   "execution_count": 48,
   "metadata": {},
   "outputs": [
    {
     "name": "stdout",
     "output_type": "stream",
     "text": [
      "(15005, 10)\n",
      "(15005, 11)\n",
      "Linear Average Error:  12.867950040599188\n",
      "Redige Average Error:  12.867631118231708\n",
      "test normalized data:  (1, 10)\n",
      "[140.14049857]\n"
     ]
    }
   ],
   "source": [
    "if __name__ == \"__main__\":\n",
    "    main()"
   ]
  },
  {
   "cell_type": "code",
   "execution_count": null,
   "metadata": {
    "collapsed": true
   },
   "outputs": [],
   "source": []
  }
 ],
 "metadata": {
  "kernelspec": {
   "display_name": "Python 3",
   "language": "python",
   "name": "python3"
  },
  "language_info": {
   "codemirror_mode": {
    "name": "ipython",
    "version": 3
   },
   "file_extension": ".py",
   "mimetype": "text/x-python",
   "name": "python",
   "nbconvert_exporter": "python",
   "pygments_lexer": "ipython3",
   "version": "3.6.1"
  }
 },
 "nbformat": 4,
 "nbformat_minor": 2
}
