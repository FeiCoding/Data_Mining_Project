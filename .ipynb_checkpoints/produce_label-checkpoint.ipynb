{
 "cells": [
  {
   "cell_type": "code",
   "execution_count": 1,
   "metadata": {
    "collapsed": true
   },
   "outputs": [],
   "source": [
    "import csv\n",
    "import tqdm"
   ]
  },
  {
   "cell_type": "code",
   "execution_count": 11,
   "metadata": {
    "collapsed": true
   },
   "outputs": [],
   "source": [
    "def list_to_str(list):\n",
    "    res = ''\n",
    "    for item in list:\n",
    "        res = res + item\n",
    "        res = res + ' '\n",
    "    return res.rstrip()"
   ]
  },
  {
   "cell_type": "code",
   "execution_count": 23,
   "metadata": {
    "collapsed": true
   },
   "outputs": [],
   "source": [
    "def read_file_processed(filename):\n",
    "    with open(filename) as f:\n",
    "        reader = csv.DictReader(f)\n",
    "        head = next(reader)\n",
    "        \n",
    "        # collect timestamp and user id\n",
    "        pre_time = head['standup_date']\n",
    "        pre_id = head['user_id']\n",
    "        \n",
    "        #collect project_id into a list\n",
    "        pre_project_id = list()\n",
    "        pre_project_id.append(head['project_id'])\n",
    "\n",
    "        \n",
    "        #define final result\n",
    "        info_list = list()\n",
    "        \n",
    "        for row in reader:\n",
    "            time = row['standup_date']\n",
    "            user_id = row['user_id']\n",
    "            project_id = row['project_id']\n",
    "\n",
    "            if pre_time == time and pre_id == user_id:\n",
    "                pre_project_id.append(project_id)\n",
    "                #print(pre_project_id)\n",
    "            \n",
    "            else:\n",
    "                sub_list = [pre_time, pre_id, list_to_str(pre_project_id)]\n",
    "                info_list.append(sub_list)\n",
    "                pre_time, pre_id = time, user_id\n",
    "                pre_project_id = list()\n",
    "                pre_project_id.append(project_id)\n",
    "        \n",
    "        \n",
    "        sub_list = [pre_time, pre_id, list_to_str(project_id)]\n",
    "        info_list.append(sub_list)\n",
    "        return info_list"
   ]
  },
  {
   "cell_type": "code",
   "execution_count": 24,
   "metadata": {
    "collapsed": true
   },
   "outputs": [],
   "source": [
    "def write_process(filename, info_list):\n",
    "    with open(filename, 'w') as f:\n",
    "        writer = csv.writer(f)\n",
    "        for sub_list in tqdm.tqdm(info_list):\n",
    "            writer.writerow(sub_list)\n",
    "        print('Write Finished')"
   ]
  },
  {
   "cell_type": "code",
   "execution_count": 31,
   "metadata": {},
   "outputs": [],
   "source": [
    "def main():\n",
    "    info_list = read_file_processed('data/all_standups_jun17_jun18.csv')\n",
    "    write_process('data/label.csv', info_list)\n",
    "    "
   ]
  },
  {
   "cell_type": "code",
   "execution_count": 32,
   "metadata": {},
   "outputs": [
    {
     "name": "stderr",
     "output_type": "stream",
     "text": [
      "100%|██████████| 6265/6265 [00:00<00:00, 603784.71it/s]"
     ]
    },
    {
     "name": "stdout",
     "output_type": "stream",
     "text": [
      "Write Finished\n"
     ]
    },
    {
     "name": "stderr",
     "output_type": "stream",
     "text": [
      "\n"
     ]
    }
   ],
   "source": [
    "if __name__ == '__main__':\n",
    "    main()"
   ]
  },
  {
   "cell_type": "code",
   "execution_count": null,
   "metadata": {
    "collapsed": true
   },
   "outputs": [],
   "source": []
  }
 ],
 "metadata": {
  "kernelspec": {
   "display_name": "Python 3",
   "language": "python",
   "name": "python3"
  },
  "language_info": {
   "codemirror_mode": {
    "name": "ipython",
    "version": 3
   },
   "file_extension": ".py",
   "mimetype": "text/x-python",
   "name": "python",
   "nbconvert_exporter": "python",
   "pygments_lexer": "ipython3",
   "version": "3.6.1"
  }
 },
 "nbformat": 4,
 "nbformat_minor": 2
}
