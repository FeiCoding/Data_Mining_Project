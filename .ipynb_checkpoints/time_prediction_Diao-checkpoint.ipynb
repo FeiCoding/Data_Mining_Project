{
 "cells": [
  {
   "cell_type": "code",
   "execution_count": 15,
   "metadata": {
    "collapsed": true
   },
   "outputs": [],
   "source": [
    "import numpy as np\n",
    "import csv\n",
    "import matplotlib.pyplot as plt\n",
    "import tqdm\n",
    "import math\n",
    "from sklearn.ensemble import RandomForestRegressor\n",
    "from sklearn.svm import SVR\n",
    "import matplotlib.pyplot as plt\n",
    "from mpl_toolkits.mplot3d import Axes3D\n",
    "from sklearn.preprocessing import StandardScaler\n",
    "from sklearn.preprocessing import PolynomialFeatures\n",
    "from sklearn.metrics import mean_squared_error"
   ]
  },
  {
   "cell_type": "code",
   "execution_count": 16,
   "metadata": {
    "collapsed": true
   },
   "outputs": [],
   "source": [
    "poly = PolynomialFeatures(2)\n",
    "scaler = StandardScaler()"
   ]
  },
  {
   "cell_type": "code",
   "execution_count": 9,
   "metadata": {
    "collapsed": true
   },
   "outputs": [],
   "source": [
    "def form_data():\n",
    "    filename = 'data/all_standups_jun17_jun18.csv'\n",
    "    user_id = np.zeros((15005, 1))\n",
    "    interest_id = np.zeros((15005, 1))\n",
    "    project_id = np.zeros((15005, 1))\n",
    "    time = np.zeros((15005, 1))\n",
    "    index = 0;\n",
    "    with open(filename) as f:\n",
    "        reader = csv.DictReader(f)\n",
    "        for row in reader:\n",
    "            user_id[index, :] = row['user_id']\n",
    "            interest_id[index, :] = row['interest_id']\n",
    "            project_id[index, :] = row['project_id']\n",
    "            time[index, :] = row['time']\n",
    "            index += 1\n",
    "    \n",
    "    n = time.shape[0]\n",
    "    data = np.zeros((n, 3))    \n",
    "    data[:, 0] = user_id[:,0]\n",
    "    data[:, 1] = interest_id[:,0]\n",
    "    data[:, 2] = project_id[:,0]\n",
    "    \n",
    "    data = poly_features(data)\n",
    "    data = normalization(data)\n",
    "    print(data.shape)\n",
    "    data = np.append(data, time, axis=1)\n",
    "    np.random.shuffle(data)\n",
    "    print(data.shape)\n",
    "    return data"
   ]
  },
  {
   "cell_type": "code",
   "execution_count": 10,
   "metadata": {
    "collapsed": true
   },
   "outputs": [],
   "source": [
    "def normalization(data):\n",
    "    scaler.fit(data)\n",
    "    trans_data = scaler.transform(data)\n",
    "    return trans_data"
   ]
  },
  {
   "cell_type": "code",
   "execution_count": 11,
   "metadata": {
    "collapsed": true
   },
   "outputs": [],
   "source": [
    "def poly_features(data):\n",
    "    dataTransform = poly.fit_transform(data)\n",
    "    return dataTransform"
   ]
  },
  {
   "cell_type": "code",
   "execution_count": null,
   "metadata": {
    "collapsed": true
   },
   "outputs": [],
   "source": [
    "def linear_regression_model(train, test):\n",
    "    model = LinearRegression(normalize = True)\n",
    "    label_length = train.shape[1] - 1\n",
    "    x = train[:, 0:label_length]\n",
    "    y = train[:, label_length]  \n",
    "    model.fit(x, y)\n",
    "    #for i in range(test.shape[0]):\n",
    "        #print(test[i, label_length].reshape(-1, 1) - model.predict(test[i, 0:label_length]).reshape(-1, 1))\n",
    "    error = np.sum(mean_squared_error(test[:, label_length], model.predict(test[:, 0:label_length]))) / test.shape[0]\n",
    "    return error, model"
   ]
  },
  {
   "cell_type": "code",
   "execution_count": 34,
   "metadata": {
    "collapsed": true
   },
   "outputs": [],
   "source": [
    "def radom_forest_regressor(train, test):\n",
    "    model = RandomForestRegressor()\n",
    "    label_length = train.shape[1] - 1\n",
    "    x = train[:, 0:label_length]\n",
    "    y = train[:, label_length]  \n",
    "    model.fit(x, y)\n",
    "    #for i in range(test.shape[0]):\n",
    "        #print(test[i, label_length].reshape(-1, 1) - model.predict(test[i, 0:label_length]).reshape(-1, 1))\n",
    "    error = np.sum(mean_squared_error(test[:, label_length], model.predict(test[:, 0:label_length]))) / test.shape[0]\n",
    "    return error, model"
   ]
  },
  {
   "cell_type": "code",
   "execution_count": 35,
   "metadata": {
    "collapsed": true
   },
   "outputs": [],
   "source": [
    "def SVM_regressor(train, test):\n",
    "    model = SVR()\n",
    "    label_length = train.shape[1] - 1\n",
    "    x = train[:, 0:label_length]\n",
    "    y = train[:, label_length]  \n",
    "    model.fit(x, y)\n",
    "    #for i in range(test.shape[0]):\n",
    "        #print(test[i, label_length].reshape(-1, 1) - model.predict(test[i, 0:label_length]).reshape(-1, 1))\n",
    "    error = np.sum(mean_squared_error(test[:, label_length], model.predict(test[:, 0:label_length]))) / test.shape[0]\n",
    "    return error, model"
   ]
  },
  {
   "cell_type": "code",
   "execution_count": 36,
   "metadata": {
    "collapsed": true
   },
   "outputs": [],
   "source": [
    "def form_test_train(data, n):\n",
    "    test_size = math.floor(n * 0.1)\n",
    "    test = np.zeros((test_size, data.shape[1]))\n",
    "    train = np.zeros((n - test_size, data.shape[1]))\n",
    "    test = data[0:test_size, :]\n",
    "    train = data[test_size:, :]\n",
    "    return test, train"
   ]
  },
  {
   "cell_type": "code",
   "execution_count": 37,
   "metadata": {
    "collapsed": true
   },
   "outputs": [],
   "source": [
    "def data_pre_process():\n",
    "    data = form_data()    \n",
    "    test, train = form_test_train(data, data.shape[0])\n",
    "    return train, test"
   ]
  },
  {
   "cell_type": "code",
   "execution_count": 44,
   "metadata": {
    "collapsed": true
   },
   "outputs": [],
   "source": [
    "def single_test(data, model):\n",
    "    print('test normalized data: ' ,data.shape)\n",
    "    return model.predict(data)"
   ]
  },
  {
   "cell_type": "code",
   "execution_count": 47,
   "metadata": {
    "collapsed": true
   },
   "outputs": [],
   "source": [
    "def main():\n",
    "    train, test = data_pre_process()\n",
    "    \n",
    "    Poly_error, polynomial_model = radom_forest_regressor(train, test)    \n",
    "    print('Random Forest Average Error: ', Foreast_error)\n",
    "    Foreast_error, random_forest_model = radom_forest_regressor(train, test)    \n",
    "    print('Random Forest Average Error: ', Foreast_error)\n",
    "    SVR_errors, SVR_model = SVM_regressor(train, test)\n",
    "    print('SVM Regression Average Error: ', SVR_errors)\n",
    "    \n",
    "    x = poly.transform(np.array([3, 29, 2]).reshape(1, -1).astype(float))\n",
    "    x = scaler.transform(x)\n",
    "    #print(x)\n",
    "    #print(test[0,:])\n",
    "    print(single_test(x, random_forest_model))"
   ]
  },
  {
   "cell_type": "code",
   "execution_count": 48,
   "metadata": {
    "collapsed": false
   },
   "outputs": [
    {
     "name": "stdout",
     "output_type": "stream",
     "text": [
      "(15005, 10)\n",
      "(15005, 11)\n",
      "Random Forest Average Error:  7.966776796946036\n",
      "SVM Regression Average Error:  14.448536168793321\n",
      "test normalized data:  (1, 10)\n",
      "[175.32279065]\n"
     ]
    }
   ],
   "source": [
    "if __name__ == \"__main__\":\n",
    "    main()"
   ]
  },
  {
   "cell_type": "code",
   "execution_count": null,
   "metadata": {
    "collapsed": true
   },
   "outputs": [],
   "source": []
  }
 ],
 "metadata": {
  "kernelspec": {
   "display_name": "Python 2",
   "language": "python",
   "name": "python2"
  },
  "language_info": {
   "codemirror_mode": {
    "name": "ipython",
    "version": 2
   },
   "file_extension": ".py",
   "mimetype": "text/x-python",
   "name": "python",
   "nbconvert_exporter": "python",
   "pygments_lexer": "ipython2",
   "version": "2.7.13"
  }
 },
 "nbformat": 4,
 "nbformat_minor": 2
}
