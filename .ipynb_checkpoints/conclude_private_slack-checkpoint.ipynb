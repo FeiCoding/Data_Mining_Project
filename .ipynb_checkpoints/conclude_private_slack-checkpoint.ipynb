{
 "cells": [
  {
   "cell_type": "code",
   "execution_count": 82,
   "metadata": {},
   "outputs": [],
   "source": [
    "import csv\n",
    "import tqdm"
   ]
  },
  {
   "cell_type": "code",
   "execution_count": 83,
   "metadata": {},
   "outputs": [],
   "source": [
    "def read_file(filename):\n",
    "    with open(filename) as f:\n",
    "        reader = csv.DictReader(f)\n",
    "        message = 1\n",
    "        \n",
    "        head = next(reader)\n",
    "        pre_time = head['\\ufefftimestamp']\n",
    "        pre_id = head['user_id']\n",
    "        pre_member = head['members']\n",
    "        \n",
    "        head_mention = head['mentions'].rstrip().split(' ')\n",
    "        pre_mentions = set(head_mention) \n",
    "        \n",
    "        info_list = list()\n",
    "        for row in reader:\n",
    "            time = row['\\ufefftimestamp']\n",
    "            user_id = row['user_id']\n",
    "            member = row['members']\n",
    "            mentions = row['mentions']\n",
    "            \n",
    "            # transform mentions into list and then into set\n",
    "            mentions_set = set(mentions.rstrip().split(' '))\n",
    "            if pre_time == time and pre_id == user_id and pre_member == member:\n",
    "                message += 1\n",
    "                pre_mentions = pre_mentions.union(mentions_set)\n",
    "                \n",
    "                # if new mentions come in, then delete '0'\n",
    "                if '0' in pre_mentions and len(pre_mentions) > 1:\n",
    "                    pre_mentions.remove('0')\n",
    "                \n",
    "            else: \n",
    "                # transfrom mentions set to string\n",
    "                pre_mentions_list = list(pre_mentions)\n",
    "                pre_mentions_str = \" \".join(str(st) for st in pre_mentions_list)\n",
    "                \n",
    "                # add pre information into a list and then append into the total list\n",
    "                sub_list = [pre_time, pre_id, pre_member, pre_mentions_str, message]\n",
    "                info_list.append(sub_list)\n",
    "                \n",
    "                # reset pre-variables to the one just read\n",
    "                message = 1\n",
    "                pre_time, pre_id, pre_member = time, user_id, member\n",
    "                pre_mentions = mentions_set\n",
    "        \n",
    "        # add the last list into the total list\n",
    "        pre_mentions_list = list(pre_mentions)\n",
    "        pre_mentions_str = \" \".join(st for st in pre_mentions_list)\n",
    "        sub_list = [pre_time, pre_id, pre_member, pre_mentions_str, message]\n",
    "        \n",
    "        \n",
    "        info_list.append(sub_list)\n",
    "        return info_list"
   ]
  },
  {
   "cell_type": "code",
   "execution_count": 84,
   "metadata": {},
   "outputs": [],
   "source": [
    "def main():\n",
    "    info_list = read_file('data/test.csv')\n",
    "    for sub_list in info_list:\n",
    "        print(sub_list)"
   ]
  },
  {
   "cell_type": "code",
   "execution_count": 85,
   "metadata": {},
   "outputs": [
    {
     "name": "stdout",
     "output_type": "stream",
     "text": [
      "['21/06/2017', '3', '4', '0', 1]\n",
      "['22/06/2017', '23', '4', '0', 12]\n",
      "['22/06/2017', '23', '5', '0', 14]\n",
      "['22/06/2017', '23', '26', '0', 6]\n",
      "['22/06/2017', '23', '50', '0', 9]\n",
      "['22/06/2017', '23', '5 26', '26 5 23', 55]\n",
      "['21/06/2017', '3', '6', '0', 3]\n",
      "['21/06/2017', '3', '10', '0', 1]\n",
      "['21/06/2017', '3', '81', '0', 1]\n",
      "['21/06/2017', '4', '3', '0', 1]\n",
      "['21/06/2017', '4', '6', '0', 19]\n",
      "['21/06/2017', '4', '9', '0', 1]\n",
      "['21/06/2017', '4', '16', '0', 1]\n"
     ]
    }
   ],
   "source": [
    "if __name__ == '__main__':\n",
    "    main()"
   ]
  },
  {
   "cell_type": "code",
   "execution_count": null,
   "metadata": {
    "collapsed": true
   },
   "outputs": [],
   "source": []
  }
 ],
 "metadata": {
  "kernelspec": {
   "display_name": "Python 3",
   "language": "python",
   "name": "python3"
  },
  "language_info": {
   "codemirror_mode": {
    "name": "ipython",
    "version": 3
   },
   "file_extension": ".py",
   "mimetype": "text/x-python",
   "name": "python",
   "nbconvert_exporter": "python",
   "pygments_lexer": "ipython3",
   "version": "3.6.5"
  }
 },
 "nbformat": 4,
 "nbformat_minor": 2
}
