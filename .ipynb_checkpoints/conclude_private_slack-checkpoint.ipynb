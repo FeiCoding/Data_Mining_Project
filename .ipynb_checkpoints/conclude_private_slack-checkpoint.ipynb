{
 "cells": [
  {
   "cell_type": "code",
   "execution_count": 1,
   "metadata": {},
   "outputs": [],
   "source": [
    "import csv\n",
    "import tqdm"
   ]
  },
  {
   "cell_type": "code",
   "execution_count": 46,
   "metadata": {},
   "outputs": [],
   "source": [
    "def read_file(filename):\n",
    "    with open(filename) as f:\n",
    "        reader = csv.DictReader(f)\n",
    "        message = 1\n",
    "        \n",
    "        head = next(reader)\n",
    "        print(head.keys())\n",
    "        pre_time = head['timestamp']\n",
    "        pre_id = head['user_id']\n",
    "        pre_member = head['members']\n",
    "        \n",
    "        head_mention = head['mentions'].rstrip().split(' ')\n",
    "        pre_mentions = set(head_mention) \n",
    "        \n",
    "        info_list = list()\n",
    "        for row in reader:\n",
    "            time = row['timestamp']\n",
    "            user_id = row['user_id']\n",
    "            member = row['members']\n",
    "            mentions = row['mentions']\n",
    "            \n",
    "            # transform mentions into list and then into set\n",
    "            mentions_set = set(mentions.rstrip().split(' '))\n",
    "            if pre_time == time and pre_id == user_id and pre_member == member:\n",
    "                message += 1\n",
    "                pre_mentions = pre_mentions.union(mentions_set)\n",
    "                \n",
    "                # if new mentions come in, then delete '0'\n",
    "                if '0' in pre_mentions and len(pre_mentions) > 1:\n",
    "                    pre_mentions.remove('0')\n",
    "                \n",
    "            else: \n",
    "                # transfrom mentions set to string\n",
    "                pre_mentions_list = list(pre_mentions)\n",
    "                pre_mentions_str = \" \".join(str(st) for st in pre_mentions_list)\n",
    "                \n",
    "                # add pre information into a list and then append into the total list\n",
    "                sub_list = [pre_time, pre_id, pre_member, pre_mentions_str, message]\n",
    "                info_list.append(sub_list)\n",
    "                \n",
    "                # reset pre-variables to the one just read\n",
    "                message = 1\n",
    "                pre_time, pre_id, pre_member = time, user_id, member\n",
    "                pre_mentions = mentions_set\n",
    "        \n",
    "        # add the last list into the total list\n",
    "        pre_mentions_list = list(pre_mentions)\n",
    "        pre_mentions_str = \" \".join(st for st in pre_mentions_list)\n",
    "        sub_list = [pre_time, pre_id, pre_member, pre_mentions_str, message]\n",
    "        \n",
    "        \n",
    "        info_list.append(sub_list)\n",
    "        return info_list"
   ]
  },
  {
   "cell_type": "code",
   "execution_count": 50,
   "metadata": {},
   "outputs": [],
   "source": [
    "def write_process(filename, info_list):\n",
    "    with open(filename, 'w') as f:\n",
    "        writer = csv.writer(f)\n",
    "        for sub_list in tqdm.tqdm(info_list):\n",
    "            writer.writerow(sub_list)\n",
    "        print('Write Finished')   "
   ]
  },
  {
   "cell_type": "code",
   "execution_count": 51,
   "metadata": {},
   "outputs": [],
   "source": [
    "def main():\n",
    "    info_list = read_file('data/Slack_Private_19062018.csv')\n",
    "    write_process('data/Slack_Private_Processed.csv', info_list)"
   ]
  },
  {
   "cell_type": "code",
   "execution_count": 52,
   "metadata": {},
   "outputs": [
    {
     "name": "stderr",
     "output_type": "stream",
     "text": [
      "100%|██████████| 36947/36947 [00:00<00:00, 942351.94it/s]"
     ]
    },
    {
     "name": "stdout",
     "output_type": "stream",
     "text": [
      "odict_keys(['timestamp', 'user_id', 'members', 'mentions', 'message', ''])\n",
      "Write Finished\n"
     ]
    },
    {
     "name": "stderr",
     "output_type": "stream",
     "text": [
      "\n"
     ]
    }
   ],
   "source": [
    "if __name__ == '__main__':\n",
    "    main()"
   ]
  },
  {
   "cell_type": "code",
   "execution_count": null,
   "metadata": {
    "collapsed": true
   },
   "outputs": [],
   "source": []
  }
 ],
 "metadata": {
  "anaconda-cloud": {},
  "kernelspec": {
   "display_name": "Python 3",
   "language": "python",
   "name": "python3"
  },
  "language_info": {
   "codemirror_mode": {
    "name": "ipython",
    "version": 3
   },
   "file_extension": ".py",
   "mimetype": "text/x-python",
   "name": "python",
   "nbconvert_exporter": "python",
   "pygments_lexer": "ipython3",
   "version": "3.6.5"
  }
 },
 "nbformat": 4,
 "nbformat_minor": 2
}
