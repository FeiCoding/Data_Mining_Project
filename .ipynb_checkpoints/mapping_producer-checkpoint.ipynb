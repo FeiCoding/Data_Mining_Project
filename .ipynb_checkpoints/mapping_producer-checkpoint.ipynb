{
 "cells": [
  {
   "cell_type": "code",
   "execution_count": 33,
   "metadata": {},
   "outputs": [],
   "source": [
    "import csv\n",
    "import tqdm"
   ]
  },
  {
   "cell_type": "code",
   "execution_count": 34,
   "metadata": {
    "collapsed": true
   },
   "outputs": [],
   "source": [
    "def read_data(filename, col):\n",
    "    id_list = []\n",
    "    with open(filename) as f:\n",
    "        reader = csv.DictReader(f)       \n",
    "        for row in reader:\n",
    "            user_id = row[col].rstrip().split(' ')\n",
    "            user_id = list(map(int, user_id))\n",
    "            user_id.sort()\n",
    "            #print(user_id)\n",
    "            id_list.append(sorted(set(user_id)))\n",
    "    return id_list"
   ]
  },
  {
   "cell_type": "code",
   "execution_count": 39,
   "metadata": {
    "collapsed": true
   },
   "outputs": [],
   "source": [
    "def write_id_data(id_list, filename):\n",
    "    #missing_key = set()\n",
    "    with open(filename, 'w') as f:\n",
    "        writer = csv.writer(f)\n",
    "        for id_name in tqdm.tqdm(id_list):\n",
    "            id_str = ''\n",
    "            for id_ in id_name:\n",
    "                id_str += str(id_)\n",
    "                id_str += ' '\n",
    "            writer.writerow([id_str])"
   ]
  },
  {
   "cell_type": "code",
   "execution_count": 69,
   "metadata": {
    "collapsed": true
   },
   "outputs": [],
   "source": [
    "def form_mapping(list_):\n",
    "    set_ = set()\n",
    "    for sub_list in list_:\n",
    "        for id_number in sub_list:\n",
    "            set_.add(int(id_number))\n",
    "    sorted(set_)\n",
    "    print(set_)\n",
    "    dic = dict()\n",
    "    index = 0\n",
    "    for number in set_:\n",
    "        dic[index] = number\n",
    "        index += 1\n",
    "    return dic, len(set_)"
   ]
  },
  {
   "cell_type": "code",
   "execution_count": 80,
   "metadata": {},
   "outputs": [],
   "source": [
    "project_id_list = read_data('data/Final_file.csv', 'project_id')"
   ]
  },
  {
   "cell_type": "code",
   "execution_count": 81,
   "metadata": {},
   "outputs": [
    {
     "name": "stdout",
     "output_type": "stream",
     "text": [
      "{1, 2, 4, 7, 135, 205, 138, 140, 141, 142, 16, 17, 144, 150, 24, 153, 154, 156, 159, 32, 33, 162, 31, 36, 37, 163, 39, 40, 41, 167, 165, 44, 168, 171, 172, 173, 176, 50, 178, 177, 179, 180, 175, 181, 183, 182, 184, 61, 189, 190, 192, 191, 194, 67, 195, 196, 70, 71, 72, 73, 74, 75, 76, 198, 78, 199, 200, 193, 207, 83, 206, 211, 209, 210, 212, 197, 100, 174, 118, 120, 122, 123, 124}\n",
      "1\n",
      "2\n",
      "4\n",
      "7\n",
      "135\n",
      "205\n",
      "138\n",
      "140\n",
      "141\n",
      "142\n",
      "16\n",
      "17\n",
      "144\n",
      "150\n",
      "24\n",
      "153\n",
      "154\n",
      "156\n",
      "159\n",
      "32\n",
      "33\n",
      "162\n",
      "31\n",
      "36\n",
      "37\n",
      "163\n",
      "39\n",
      "40\n",
      "41\n",
      "167\n",
      "165\n",
      "44\n",
      "168\n",
      "171\n",
      "172\n",
      "173\n",
      "176\n",
      "50\n",
      "178\n",
      "177\n",
      "179\n",
      "180\n",
      "175\n",
      "181\n",
      "183\n",
      "182\n",
      "184\n",
      "61\n",
      "189\n",
      "190\n",
      "192\n",
      "191\n",
      "194\n",
      "67\n",
      "195\n",
      "196\n",
      "70\n",
      "71\n",
      "72\n",
      "73\n",
      "74\n",
      "75\n",
      "76\n",
      "198\n",
      "78\n",
      "199\n",
      "200\n",
      "193\n",
      "207\n",
      "83\n",
      "206\n",
      "211\n",
      "209\n",
      "210\n",
      "212\n",
      "197\n",
      "100\n",
      "174\n",
      "118\n",
      "120\n",
      "122\n",
      "123\n",
      "124\n"
     ]
    }
   ],
   "source": [
    "dic, length = form_mapping(project_id_list)\n",
    "for key in dic.keys():\n",
    "    print(dic[key])"
   ]
  },
  {
   "cell_type": "code",
   "execution_count": null,
   "metadata": {
    "collapsed": true
   },
   "outputs": [],
   "source": []
  }
 ],
 "metadata": {
  "kernelspec": {
   "display_name": "Python 3",
   "language": "python",
   "name": "python3"
  },
  "language_info": {
   "codemirror_mode": {
    "name": "ipython",
    "version": 3
   },
   "file_extension": ".py",
   "mimetype": "text/x-python",
   "name": "python",
   "nbconvert_exporter": "python",
   "pygments_lexer": "ipython3",
   "version": "3.6.1"
  }
 },
 "nbformat": 4,
 "nbformat_minor": 2
}
