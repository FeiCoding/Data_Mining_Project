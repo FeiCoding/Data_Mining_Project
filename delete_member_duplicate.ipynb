{
 "cells": [
  {
   "cell_type": "code",
   "execution_count": 86,
   "metadata": {
    "collapsed": true
   },
   "outputs": [],
   "source": [
    "import csv\n",
    "import re\n",
    "import tqdm"
   ]
  },
  {
   "cell_type": "code",
   "execution_count": 87,
   "metadata": {
    "collapsed": true
   },
   "outputs": [],
   "source": [
    "def read_data(filename):\n",
    "    with open(filename) as f:\n",
    "        reader = csv.DictReader(f)\n",
    "        user_id_collect = list()\n",
    "        members_collect = list()\n",
    "        for row in reader:\n",
    "            members = row['members']\n",
    "            user_id = row['user_id']\n",
    "            user_id_collect.append(user_id)\n",
    "            members_collect.append(members)\n",
    "    return user_id_collect, members_collect"
   ]
  },
  {
   "cell_type": "code",
   "execution_count": 88,
   "metadata": {
    "collapsed": true
   },
   "outputs": [],
   "source": [
    "def delete_dup_member(user_id_collect, members_collect):\n",
    "    after_collect = list()\n",
    "    index = 0\n",
    "    for sub_collect in members_collect:\n",
    "        members = sub_collect.split(' ')\n",
    "        members.remove(user_id_collect[index])\n",
    "        index += 1\n",
    "        after_collect.append(members)\n",
    "    return after_collect"
   ]
  },
  {
   "cell_type": "code",
   "execution_count": 89,
   "metadata": {
    "collapsed": true
   },
   "outputs": [],
   "source": [
    "def write_file(after_collect, filename):\n",
    "    with open(filename, 'w') as f:\n",
    "        writer = csv.writer(f)\n",
    "        for row in tqdm.tqdm(after_collect):\n",
    "            row.remove('')\n",
    "            result = ''\n",
    "            for sub_row in row:\n",
    "                result += sub_row\n",
    "                result += ' '\n",
    "            writer.writerow([result.rstrip()])\n",
    "        print('Write Finished')"
   ]
  },
  {
   "cell_type": "code",
   "execution_count": 90,
   "metadata": {
    "collapsed": true
   },
   "outputs": [],
   "source": [
    "def main():\n",
    "    user_id_collect, members_collect = read_data('data/Slack_Private_19062018.csv')\n",
    "    after_collect = delete_dup_member(user_id_collect, members_collect)\n",
    "    #print(after_collect)\n",
    "    write_file(after_collect, 'data/member_delete_duplicate.csv')"
   ]
  },
  {
   "cell_type": "code",
   "execution_count": 91,
   "metadata": {},
   "outputs": [
    {
     "name": "stderr",
     "output_type": "stream",
     "text": [
      "100%|██████████| 235848/235848 [00:00<00:00, 666681.63it/s]"
     ]
    },
    {
     "name": "stdout",
     "output_type": "stream",
     "text": [
      "Write Finished\n"
     ]
    },
    {
     "name": "stderr",
     "output_type": "stream",
     "text": [
      "\n"
     ]
    }
   ],
   "source": [
    "if __name__ == '__main__':\n",
    "    main()"
   ]
  },
  {
   "cell_type": "code",
   "execution_count": null,
   "metadata": {
    "collapsed": true
   },
   "outputs": [],
   "source": []
  }
 ],
 "metadata": {
  "kernelspec": {
   "display_name": "Python 3",
   "language": "python",
   "name": "python3"
  },
  "language_info": {
   "codemirror_mode": {
    "name": "ipython",
    "version": 3
   },
   "file_extension": ".py",
   "mimetype": "text/x-python",
   "name": "python",
   "nbconvert_exporter": "python",
   "pygments_lexer": "ipython3",
   "version": "3.6.1"
  }
 },
 "nbformat": 4,
 "nbformat_minor": 2
}
